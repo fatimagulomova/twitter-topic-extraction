{
 "cells": [
  {
   "cell_type": "markdown",
   "id": "e6b72a87",
   "metadata": {
    "papermill": {
     "duration": 0.007255,
     "end_time": "2025-05-16T14:15:32.941758",
     "exception": false,
     "start_time": "2025-05-16T14:15:32.934503",
     "status": "completed"
    },
    "tags": []
   },
   "source": [
    "#  Task 2: Extract prevalent topics from Twitter messages\n",
    "\n",
    "## 🎯 Objective\n",
    "\n",
    "- The goal of this project is to **extract the most frequent topics** discussed in tweets related to a specific city or region using **Natural Language Processing (NLP)** techniques.\n",
    "- This analysis helps identify **trends, public concerns, and popular discussions** by processing tweet content.\n",
    "- The insights can support **local researchers, journalists, or policymakers** by showing what people are actively talking about in a particular location.\n",
    "\n",
    "## Diagram of the project\n",
    "\n",
    "![ScholarAI Diagram](https://i.postimg.cc/jj4GrYzg/Diagram-1.png)"
   ]
  },
  {
   "cell_type": "markdown",
   "id": "c5e0e666",
   "metadata": {
    "papermill": {
     "duration": 0.006309,
     "end_time": "2025-05-16T14:15:32.954611",
     "exception": false,
     "start_time": "2025-05-16T14:15:32.948302",
     "status": "completed"
    },
    "tags": []
   },
   "source": [
    "# Notebook Installations"
   ]
  },
  {
   "cell_type": "code",
   "execution_count": 1,
   "id": "b6285892",
   "metadata": {
    "execution": {
     "iopub.execute_input": "2025-05-16T14:15:32.969893Z",
     "iopub.status.busy": "2025-05-16T14:15:32.969308Z",
     "iopub.status.idle": "2025-05-16T14:15:38.003950Z",
     "shell.execute_reply": "2025-05-16T14:15:38.002708Z"
    },
    "papermill": {
     "duration": 5.043836,
     "end_time": "2025-05-16T14:15:38.005884",
     "exception": false,
     "start_time": "2025-05-16T14:15:32.962048",
     "status": "completed"
    },
    "tags": []
   },
   "outputs": [],
   "source": [
    "!pip install -qU tweepy"
   ]
  },
  {
   "cell_type": "code",
   "execution_count": 2,
   "id": "6b53e740",
   "metadata": {
    "execution": {
     "iopub.execute_input": "2025-05-16T14:15:38.020808Z",
     "iopub.status.busy": "2025-05-16T14:15:38.020469Z",
     "iopub.status.idle": "2025-05-16T14:15:42.745322Z",
     "shell.execute_reply": "2025-05-16T14:15:42.744119Z"
    },
    "papermill": {
     "duration": 4.734754,
     "end_time": "2025-05-16T14:15:42.747253",
     "exception": false,
     "start_time": "2025-05-16T14:15:38.012499",
     "status": "completed"
    },
    "tags": []
   },
   "outputs": [],
   "source": [
    "import tweepy\n",
    "import time\n",
    "import pandas as pd\n",
    "from kaggle_secrets import UserSecretsClient\n",
    "\n",
    "# NLTK\n",
    "import nltk\n",
    "from nltk.tokenize import word_tokenize\n",
    "from nltk.corpus import stopwords\n",
    "from wordcloud import WordCloud\n",
    "from nltk.stem import WordNetLemmatizer\n",
    "\n",
    "from IPython.display import HTML\n",
    "import pandas as pd\n",
    "from tweepy.errors import TooManyRequests\n",
    "import pandas as pd\n",
    "from IPython.display import HTML\n",
    "\n",
    "import matplotlib.pyplot as plt\n",
    "import numpy as np\n",
    "from collections import Counter"
   ]
  },
  {
   "cell_type": "code",
   "execution_count": 3,
   "id": "08dc4250",
   "metadata": {
    "execution": {
     "iopub.execute_input": "2025-05-16T14:15:42.771510Z",
     "iopub.status.busy": "2025-05-16T14:15:42.770642Z",
     "iopub.status.idle": "2025-05-16T14:15:43.628147Z",
     "shell.execute_reply": "2025-05-16T14:15:43.626710Z"
    },
    "papermill": {
     "duration": 0.872294,
     "end_time": "2025-05-16T14:15:43.630964",
     "exception": false,
     "start_time": "2025-05-16T14:15:42.758670",
     "status": "completed"
    },
    "tags": []
   },
   "outputs": [
    {
     "name": "stderr",
     "output_type": "stream",
     "text": [
      "[nltk_data] Downloading package punkt to /usr/share/nltk_data...\n",
      "[nltk_data]   Package punkt is already up-to-date!\n",
      "[nltk_data] Downloading package stopwords to /usr/share/nltk_data...\n",
      "[nltk_data]   Package stopwords is already up-to-date!\n",
      "[nltk_data] Downloading package wordnet to /usr/share/nltk_data...\n",
      "[nltk_data]   Package wordnet is already up-to-date!\n"
     ]
    },
    {
     "name": "stdout",
     "output_type": "stream",
     "text": [
      "Archive:  /usr/share/nltk_data/corpora/wordnet.zip\r\n",
      "   creating: /usr/share/nltk_data/corpora/wordnet/\r\n",
      "  inflating: /usr/share/nltk_data/corpora/wordnet/lexnames  \r\n",
      "  inflating: /usr/share/nltk_data/corpora/wordnet/data.verb  \r\n",
      "  inflating: /usr/share/nltk_data/corpora/wordnet/index.adv  \r\n",
      "  inflating: /usr/share/nltk_data/corpora/wordnet/adv.exc  \r\n",
      "  inflating: /usr/share/nltk_data/corpora/wordnet/index.verb  \r\n",
      "  inflating: /usr/share/nltk_data/corpora/wordnet/cntlist.rev  \r\n",
      "  inflating: /usr/share/nltk_data/corpora/wordnet/data.adj  \r\n",
      "  inflating: /usr/share/nltk_data/corpora/wordnet/index.adj  \r\n",
      "  inflating: /usr/share/nltk_data/corpora/wordnet/LICENSE  \r\n",
      "  inflating: /usr/share/nltk_data/corpora/wordnet/citation.bib  \r\n",
      "  inflating: /usr/share/nltk_data/corpora/wordnet/noun.exc  \r\n",
      "  inflating: /usr/share/nltk_data/corpora/wordnet/verb.exc  \r\n",
      "  inflating: /usr/share/nltk_data/corpora/wordnet/README  \r\n",
      "  inflating: /usr/share/nltk_data/corpora/wordnet/index.sense  \r\n",
      "  inflating: /usr/share/nltk_data/corpora/wordnet/data.noun  \r\n",
      "  inflating: /usr/share/nltk_data/corpora/wordnet/data.adv  \r\n",
      "  inflating: /usr/share/nltk_data/corpora/wordnet/index.noun  \r\n",
      "  inflating: /usr/share/nltk_data/corpora/wordnet/adj.exc  \r\n"
     ]
    }
   ],
   "source": [
    "nltk.download('punkt')\n",
    "nltk.download('stopwords')\n",
    "nltk.download('wordnet')\n",
    "\n",
    "! unzip /usr/share/nltk_data/corpora/wordnet.zip -d /usr/share/nltk_data/corpora/"
   ]
  },
  {
   "cell_type": "code",
   "execution_count": 4,
   "id": "2b322e86",
   "metadata": {
    "execution": {
     "iopub.execute_input": "2025-05-16T14:15:43.655201Z",
     "iopub.status.busy": "2025-05-16T14:15:43.654747Z",
     "iopub.status.idle": "2025-05-16T14:15:43.924799Z",
     "shell.execute_reply": "2025-05-16T14:15:43.923749Z"
    },
    "papermill": {
     "duration": 0.283356,
     "end_time": "2025-05-16T14:15:43.926490",
     "exception": false,
     "start_time": "2025-05-16T14:15:43.643134",
     "status": "completed"
    },
    "tags": []
   },
   "outputs": [],
   "source": [
    "user_secrets = UserSecretsClient()\n",
    "# access_token = user_secrets.get_secret(\"access_token\")\n",
    "# access_token_secret = user_secrets.get_secret(\"access_token_secret\")\n",
    "bearer_token = user_secrets.get_secret(\"BEARER_TOKEN\")\n",
    "# consumer_key = user_secrets.get_secret(\"consumer_key\")\n",
    "# consumer_secret = user_secrets.get_secret(\"consumer_secret\")"
   ]
  },
  {
   "cell_type": "markdown",
   "id": "b36aa5aa",
   "metadata": {
    "papermill": {
     "duration": 0.006108,
     "end_time": "2025-05-16T14:15:43.939307",
     "exception": false,
     "start_time": "2025-05-16T14:15:43.933199",
     "status": "completed"
    },
    "tags": []
   },
   "source": [
    "## Step 1: Data Collection"
   ]
  },
  {
   "cell_type": "markdown",
   "id": "81a49c42",
   "metadata": {
    "papermill": {
     "duration": 0.006104,
     "end_time": "2025-05-16T14:15:43.951851",
     "exception": false,
     "start_time": "2025-05-16T14:15:43.945747",
     "status": "completed"
    },
    "tags": []
   },
   "source": [
    "I used the **Twitter API v2** to collect recent tweets related to Uzbekistan by searching for keywords like **\"Tashkent\"**, **\"Uzbekistan\"**, and **#Uzbekistan.** Since I don't have access to location-based filters, I relied on these keywords along with the language filter **lang:en** to get relevant tweets.\n",
    "\n",
    "I fetched tweets in multiple batches using **Tweepy**, with a delay between requests to respect the rate limit. Each tweet includes the text, author ID, language, creation time, and context annotations (if available)."
   ]
  },
  {
   "cell_type": "code",
   "execution_count": 5,
   "id": "47296f93",
   "metadata": {
    "execution": {
     "iopub.execute_input": "2025-05-16T14:15:43.966026Z",
     "iopub.status.busy": "2025-05-16T14:15:43.965710Z",
     "iopub.status.idle": "2025-05-16T14:15:43.970673Z",
     "shell.execute_reply": "2025-05-16T14:15:43.969870Z"
    },
    "papermill": {
     "duration": 0.01405,
     "end_time": "2025-05-16T14:15:43.972369",
     "exception": false,
     "start_time": "2025-05-16T14:15:43.958319",
     "status": "completed"
    },
    "tags": []
   },
   "outputs": [],
   "source": [
    "client = tweepy.Client(bearer_token=bearer_token)"
   ]
  },
  {
   "cell_type": "code",
   "execution_count": 6,
   "id": "50b69a53",
   "metadata": {
    "execution": {
     "iopub.execute_input": "2025-05-16T14:15:43.987217Z",
     "iopub.status.busy": "2025-05-16T14:15:43.986547Z",
     "iopub.status.idle": "2025-05-16T14:15:44.797642Z",
     "shell.execute_reply": "2025-05-16T14:15:44.796737Z"
    },
    "papermill": {
     "duration": 0.820439,
     "end_time": "2025-05-16T14:15:44.799432",
     "exception": false,
     "start_time": "2025-05-16T14:15:43.978993",
     "status": "completed"
    },
    "tags": []
   },
   "outputs": [
    {
     "name": "stdout",
     "output_type": "stream",
     "text": [
      "Twitter API limit reached. Loading fallback CSV...\n",
      "              Tweet ID            Username  \\\n",
      "0  1798142586911342936          Rabbit1873   \n",
      "1  1798142575112769914      Chrissi Miller   \n",
      "2  1798142544762830918  Pedro Da Conceicao   \n",
      "3  1798142432388714849              Ben 🇺🇲   \n",
      "4  1798142320958943735  🇺🇸Proud American🇮🇹   \n",
      "\n",
      "                                                Text  \\\n",
      "0  @JackPosobiec Re: BREAKING: GARLAND TO LAUNCH ...   \n",
      "1  @PaulStanleyLive #PresidentDonaldTrump wins th...   \n",
      "2  @tomorrowsmps I believe I am the youngest PPC ...   \n",
      "3  I am already saying Democrats will cheat even ...   \n",
      "4  @BryanDeanWright Republican AG’s should prosec...   \n",
      "\n",
      "                             Date  Retweets  Likes    Weight  \n",
      "0  Tue Jun 04 23:59:35 +0000 2024         2      3  0.622459  \n",
      "1  Tue Jun 04 23:59:32 +0000 2024         0      0  0.622459  \n",
      "2  Tue Jun 04 23:59:25 +0000 2024         0      0  0.982014  \n",
      "3  Tue Jun 04 23:58:58 +0000 2024         0      0  0.500000  \n",
      "4  Tue Jun 04 23:58:31 +0000 2024         0      2  0.880797  \n"
     ]
    }
   ],
   "source": [
    "# Pre-define df in case all branches fail\n",
    "df = None\n",
    "\n",
    "query = (\n",
    "    \"(Tashkent OR Uzbekistan OR #Uzbekistan OR #Tashkent OR Samarqand OR Samarkand) \"\n",
    "    \"-is:retweet lang:en\"\n",
    ")\n",
    "\n",
    "try: \n",
    "    tweet = client.search_recent_tweets(\n",
    "        query=query,\n",
    "        tweet_fields=['context_annotations', 'created_at', 'author_id', 'lang'],\n",
    "        max_results=100\n",
    "    )\n",
    "\n",
    "    if tweet.data is not None:\n",
    "        tweet_list = []\n",
    "        for t in tweet.data:\n",
    "            tweet_list.append({\n",
    "                \"id\": t.id,\n",
    "                \"text\": t.text,\n",
    "                \"created_at\": t.created_at,\n",
    "                \"author_id\": t.author_id,\n",
    "                \"lang\": t.lang,\n",
    "                \"context_annotations\": t.context_annotations if hasattr(t, \"context_annotations\") else None\n",
    "            })\n",
    "\n",
    "        df = pd.DataFrame(tweet_list)\n",
    "        print(df.head())\n",
    "    else:\n",
    "        print(\"No tweets returned.\")\n",
    "\n",
    "except TooManyRequests:\n",
    "    print(\"Twitter API limit reached. Loading fallback CSV...\")\n",
    "    df = pd.read_csv(\"/kaggle/input/2024-us-presidential-elections-twitter-data/final_raw.csv\")\n",
    "    print(df.head())\n",
    "\n",
    "finally:\n",
    "    if df is not None:\n",
    "        df.to_csv('submission.csv', index=False)\n",
    "\n",
    "        def create_download_link(title=\"Download CSV file\", filename=\"submission.csv\"):  \n",
    "            html = f'<a href=\"{filename}\">{title}</a>'\n",
    "            return HTML(html)\n",
    "\n",
    "        create_download_link(filename='submission.csv')\n",
    "    else:\n",
    "        print(\"No DataFrame available to save.\")"
   ]
  },
  {
   "cell_type": "code",
   "execution_count": 7,
   "id": "3fac8915",
   "metadata": {
    "execution": {
     "iopub.execute_input": "2025-05-16T14:15:44.814492Z",
     "iopub.status.busy": "2025-05-16T14:15:44.814144Z",
     "iopub.status.idle": "2025-05-16T14:15:44.821739Z",
     "shell.execute_reply": "2025-05-16T14:15:44.820766Z"
    },
    "papermill": {
     "duration": 0.016831,
     "end_time": "2025-05-16T14:15:44.823260",
     "exception": false,
     "start_time": "2025-05-16T14:15:44.806429",
     "status": "completed"
    },
    "tags": []
   },
   "outputs": [
    {
     "data": {
      "text/plain": [
       "(26425, 7)"
      ]
     },
     "execution_count": 7,
     "metadata": {},
     "output_type": "execute_result"
    }
   ],
   "source": [
    "df.shape"
   ]
  },
  {
   "cell_type": "code",
   "execution_count": 8,
   "id": "63b8dc74",
   "metadata": {
    "execution": {
     "iopub.execute_input": "2025-05-16T14:15:44.838181Z",
     "iopub.status.busy": "2025-05-16T14:15:44.837850Z",
     "iopub.status.idle": "2025-05-16T14:15:44.855986Z",
     "shell.execute_reply": "2025-05-16T14:15:44.854996Z"
    },
    "papermill": {
     "duration": 0.027366,
     "end_time": "2025-05-16T14:15:44.857609",
     "exception": false,
     "start_time": "2025-05-16T14:15:44.830243",
     "status": "completed"
    },
    "tags": []
   },
   "outputs": [
    {
     "data": {
      "text/html": [
       "<div>\n",
       "<style scoped>\n",
       "    .dataframe tbody tr th:only-of-type {\n",
       "        vertical-align: middle;\n",
       "    }\n",
       "\n",
       "    .dataframe tbody tr th {\n",
       "        vertical-align: top;\n",
       "    }\n",
       "\n",
       "    .dataframe thead th {\n",
       "        text-align: right;\n",
       "    }\n",
       "</style>\n",
       "<table border=\"1\" class=\"dataframe\">\n",
       "  <thead>\n",
       "    <tr style=\"text-align: right;\">\n",
       "      <th></th>\n",
       "      <th>Tweet ID</th>\n",
       "      <th>Username</th>\n",
       "      <th>Text</th>\n",
       "      <th>Date</th>\n",
       "      <th>Retweets</th>\n",
       "      <th>Likes</th>\n",
       "      <th>Weight</th>\n",
       "    </tr>\n",
       "  </thead>\n",
       "  <tbody>\n",
       "    <tr>\n",
       "      <th>0</th>\n",
       "      <td>1798142586911342936</td>\n",
       "      <td>Rabbit1873</td>\n",
       "      <td>@JackPosobiec Re: BREAKING: GARLAND TO LAUNCH ...</td>\n",
       "      <td>Tue Jun 04 23:59:35 +0000 2024</td>\n",
       "      <td>2</td>\n",
       "      <td>3</td>\n",
       "      <td>0.622459</td>\n",
       "    </tr>\n",
       "    <tr>\n",
       "      <th>1</th>\n",
       "      <td>1798142575112769914</td>\n",
       "      <td>Chrissi Miller</td>\n",
       "      <td>@PaulStanleyLive #PresidentDonaldTrump wins th...</td>\n",
       "      <td>Tue Jun 04 23:59:32 +0000 2024</td>\n",
       "      <td>0</td>\n",
       "      <td>0</td>\n",
       "      <td>0.622459</td>\n",
       "    </tr>\n",
       "    <tr>\n",
       "      <th>2</th>\n",
       "      <td>1798142544762830918</td>\n",
       "      <td>Pedro Da Conceicao</td>\n",
       "      <td>@tomorrowsmps I believe I am the youngest PPC ...</td>\n",
       "      <td>Tue Jun 04 23:59:25 +0000 2024</td>\n",
       "      <td>0</td>\n",
       "      <td>0</td>\n",
       "      <td>0.982014</td>\n",
       "    </tr>\n",
       "    <tr>\n",
       "      <th>3</th>\n",
       "      <td>1798142432388714849</td>\n",
       "      <td>Ben 🇺🇲</td>\n",
       "      <td>I am already saying Democrats will cheat even ...</td>\n",
       "      <td>Tue Jun 04 23:58:58 +0000 2024</td>\n",
       "      <td>0</td>\n",
       "      <td>0</td>\n",
       "      <td>0.500000</td>\n",
       "    </tr>\n",
       "    <tr>\n",
       "      <th>4</th>\n",
       "      <td>1798142320958943735</td>\n",
       "      <td>🇺🇸Proud American🇮🇹</td>\n",
       "      <td>@BryanDeanWright Republican AG’s should prosec...</td>\n",
       "      <td>Tue Jun 04 23:58:31 +0000 2024</td>\n",
       "      <td>0</td>\n",
       "      <td>2</td>\n",
       "      <td>0.880797</td>\n",
       "    </tr>\n",
       "  </tbody>\n",
       "</table>\n",
       "</div>"
      ],
      "text/plain": [
       "              Tweet ID            Username  \\\n",
       "0  1798142586911342936          Rabbit1873   \n",
       "1  1798142575112769914      Chrissi Miller   \n",
       "2  1798142544762830918  Pedro Da Conceicao   \n",
       "3  1798142432388714849              Ben 🇺🇲   \n",
       "4  1798142320958943735  🇺🇸Proud American🇮🇹   \n",
       "\n",
       "                                                Text  \\\n",
       "0  @JackPosobiec Re: BREAKING: GARLAND TO LAUNCH ...   \n",
       "1  @PaulStanleyLive #PresidentDonaldTrump wins th...   \n",
       "2  @tomorrowsmps I believe I am the youngest PPC ...   \n",
       "3  I am already saying Democrats will cheat even ...   \n",
       "4  @BryanDeanWright Republican AG’s should prosec...   \n",
       "\n",
       "                             Date  Retweets  Likes    Weight  \n",
       "0  Tue Jun 04 23:59:35 +0000 2024         2      3  0.622459  \n",
       "1  Tue Jun 04 23:59:32 +0000 2024         0      0  0.622459  \n",
       "2  Tue Jun 04 23:59:25 +0000 2024         0      0  0.982014  \n",
       "3  Tue Jun 04 23:58:58 +0000 2024         0      0  0.500000  \n",
       "4  Tue Jun 04 23:58:31 +0000 2024         0      2  0.880797  "
      ]
     },
     "execution_count": 8,
     "metadata": {},
     "output_type": "execute_result"
    }
   ],
   "source": [
    "df.head()"
   ]
  },
  {
   "cell_type": "code",
   "execution_count": 9,
   "id": "35fefde9",
   "metadata": {
    "execution": {
     "iopub.execute_input": "2025-05-16T14:15:44.873175Z",
     "iopub.status.busy": "2025-05-16T14:15:44.872834Z",
     "iopub.status.idle": "2025-05-16T14:15:44.886973Z",
     "shell.execute_reply": "2025-05-16T14:15:44.885594Z"
    },
    "papermill": {
     "duration": 0.023746,
     "end_time": "2025-05-16T14:15:44.888543",
     "exception": false,
     "start_time": "2025-05-16T14:15:44.864797",
     "status": "completed"
    },
    "tags": []
   },
   "outputs": [
    {
     "name": "stdout",
     "output_type": "stream",
     "text": [
      "The empty row in the data: \n",
      "Tweet ID    0\n",
      "Username    2\n",
      "Text        0\n",
      "Date        0\n",
      "Retweets    0\n",
      "Likes       0\n",
      "Weight      0\n",
      "dtype: int64\n"
     ]
    }
   ],
   "source": [
    "print(f\"The empty row in the data: \\n{df.isnull().sum()}\")"
   ]
  },
  {
   "cell_type": "code",
   "execution_count": 10,
   "id": "1b8537df",
   "metadata": {
    "execution": {
     "iopub.execute_input": "2025-05-16T14:15:44.904375Z",
     "iopub.status.busy": "2025-05-16T14:15:44.904019Z",
     "iopub.status.idle": "2025-05-16T14:15:44.910738Z",
     "shell.execute_reply": "2025-05-16T14:15:44.909280Z"
    },
    "papermill": {
     "duration": 0.016758,
     "end_time": "2025-05-16T14:15:44.912684",
     "exception": false,
     "start_time": "2025-05-16T14:15:44.895926",
     "status": "completed"
    },
    "tags": []
   },
   "outputs": [
    {
     "name": "stdout",
     "output_type": "stream",
     "text": [
      "The types of the data: \n",
      "Tweet ID      int64\n",
      "Username     object\n",
      "Text         object\n",
      "Date         object\n",
      "Retweets      int64\n",
      "Likes         int64\n",
      "Weight      float64\n",
      "dtype: object\n",
      "\n"
     ]
    }
   ],
   "source": [
    "print(f\"The types of the data: \\n{df.dtypes}\\n\")"
   ]
  },
  {
   "cell_type": "code",
   "execution_count": 11,
   "id": "df37ce76",
   "metadata": {
    "execution": {
     "iopub.execute_input": "2025-05-16T14:15:44.928543Z",
     "iopub.status.busy": "2025-05-16T14:15:44.928229Z",
     "iopub.status.idle": "2025-05-16T14:15:44.958235Z",
     "shell.execute_reply": "2025-05-16T14:15:44.957398Z"
    },
    "papermill": {
     "duration": 0.039605,
     "end_time": "2025-05-16T14:15:44.959688",
     "exception": false,
     "start_time": "2025-05-16T14:15:44.920083",
     "status": "completed"
    },
    "tags": []
   },
   "outputs": [
    {
     "name": "stdout",
     "output_type": "stream",
     "text": [
      "(26314, 7)\n"
     ]
    },
    {
     "data": {
      "text/html": [
       "<div>\n",
       "<style scoped>\n",
       "    .dataframe tbody tr th:only-of-type {\n",
       "        vertical-align: middle;\n",
       "    }\n",
       "\n",
       "    .dataframe tbody tr th {\n",
       "        vertical-align: top;\n",
       "    }\n",
       "\n",
       "    .dataframe thead th {\n",
       "        text-align: right;\n",
       "    }\n",
       "</style>\n",
       "<table border=\"1\" class=\"dataframe\">\n",
       "  <thead>\n",
       "    <tr style=\"text-align: right;\">\n",
       "      <th></th>\n",
       "      <th>Tweet ID</th>\n",
       "      <th>Username</th>\n",
       "      <th>Text</th>\n",
       "      <th>Date</th>\n",
       "      <th>Retweets</th>\n",
       "      <th>Likes</th>\n",
       "      <th>Weight</th>\n",
       "    </tr>\n",
       "  </thead>\n",
       "  <tbody>\n",
       "    <tr>\n",
       "      <th>0</th>\n",
       "      <td>1798142586911342936</td>\n",
       "      <td>Rabbit1873</td>\n",
       "      <td>@JackPosobiec Re: BREAKING: GARLAND TO LAUNCH ...</td>\n",
       "      <td>Tue Jun 04 23:59:35 +0000 2024</td>\n",
       "      <td>2</td>\n",
       "      <td>3</td>\n",
       "      <td>0.622459</td>\n",
       "    </tr>\n",
       "    <tr>\n",
       "      <th>1</th>\n",
       "      <td>1798142575112769914</td>\n",
       "      <td>Chrissi Miller</td>\n",
       "      <td>@PaulStanleyLive #PresidentDonaldTrump wins th...</td>\n",
       "      <td>Tue Jun 04 23:59:32 +0000 2024</td>\n",
       "      <td>0</td>\n",
       "      <td>0</td>\n",
       "      <td>0.622459</td>\n",
       "    </tr>\n",
       "    <tr>\n",
       "      <th>2</th>\n",
       "      <td>1798142544762830918</td>\n",
       "      <td>Pedro Da Conceicao</td>\n",
       "      <td>@tomorrowsmps I believe I am the youngest PPC ...</td>\n",
       "      <td>Tue Jun 04 23:59:25 +0000 2024</td>\n",
       "      <td>0</td>\n",
       "      <td>0</td>\n",
       "      <td>0.982014</td>\n",
       "    </tr>\n",
       "    <tr>\n",
       "      <th>3</th>\n",
       "      <td>1798142432388714849</td>\n",
       "      <td>Ben 🇺🇲</td>\n",
       "      <td>I am already saying Democrats will cheat even ...</td>\n",
       "      <td>Tue Jun 04 23:58:58 +0000 2024</td>\n",
       "      <td>0</td>\n",
       "      <td>0</td>\n",
       "      <td>0.500000</td>\n",
       "    </tr>\n",
       "    <tr>\n",
       "      <th>4</th>\n",
       "      <td>1798142320958943735</td>\n",
       "      <td>🇺🇸Proud American🇮🇹</td>\n",
       "      <td>@BryanDeanWright Republican AG’s should prosec...</td>\n",
       "      <td>Tue Jun 04 23:58:31 +0000 2024</td>\n",
       "      <td>0</td>\n",
       "      <td>2</td>\n",
       "      <td>0.880797</td>\n",
       "    </tr>\n",
       "  </tbody>\n",
       "</table>\n",
       "</div>"
      ],
      "text/plain": [
       "              Tweet ID            Username  \\\n",
       "0  1798142586911342936          Rabbit1873   \n",
       "1  1798142575112769914      Chrissi Miller   \n",
       "2  1798142544762830918  Pedro Da Conceicao   \n",
       "3  1798142432388714849              Ben 🇺🇲   \n",
       "4  1798142320958943735  🇺🇸Proud American🇮🇹   \n",
       "\n",
       "                                                Text  \\\n",
       "0  @JackPosobiec Re: BREAKING: GARLAND TO LAUNCH ...   \n",
       "1  @PaulStanleyLive #PresidentDonaldTrump wins th...   \n",
       "2  @tomorrowsmps I believe I am the youngest PPC ...   \n",
       "3  I am already saying Democrats will cheat even ...   \n",
       "4  @BryanDeanWright Republican AG’s should prosec...   \n",
       "\n",
       "                             Date  Retweets  Likes    Weight  \n",
       "0  Tue Jun 04 23:59:35 +0000 2024         2      3  0.622459  \n",
       "1  Tue Jun 04 23:59:32 +0000 2024         0      0  0.622459  \n",
       "2  Tue Jun 04 23:59:25 +0000 2024         0      0  0.982014  \n",
       "3  Tue Jun 04 23:58:58 +0000 2024         0      0  0.500000  \n",
       "4  Tue Jun 04 23:58:31 +0000 2024         0      2  0.880797  "
      ]
     },
     "execution_count": 11,
     "metadata": {},
     "output_type": "execute_result"
    }
   ],
   "source": [
    "df.drop_duplicates('Text', inplace=True)\n",
    "print(df.shape)\n",
    "df.head()"
   ]
  },
  {
   "cell_type": "markdown",
   "id": "9b79c8a9",
   "metadata": {
    "papermill": {
     "duration": 0.00809,
     "end_time": "2025-05-16T14:15:44.975392",
     "exception": false,
     "start_time": "2025-05-16T14:15:44.967302",
     "status": "completed"
    },
    "tags": []
   },
   "source": [
    "## Step 2: Data Preprocessing\n",
    "\n",
    "\n",
    "* **Text Cleaning:** Remove any HTML tags, special characters, numbers, and other non-alphabetic characters.\n",
    "* **Tokenization:** Split the reviews into individual words (tokens).\n",
    "* **Stop Words Removal:** Remove common words that do not contribute to the sentiment, such as 'and', 'the', 'is', etc.\n",
    "* **Lemmatization:** Reduce words to their base or root form.\n"
   ]
  },
  {
   "cell_type": "code",
   "execution_count": 12,
   "id": "f7e1f5bc",
   "metadata": {
    "execution": {
     "iopub.execute_input": "2025-05-16T14:15:44.991306Z",
     "iopub.status.busy": "2025-05-16T14:15:44.990985Z",
     "iopub.status.idle": "2025-05-16T14:15:44.996023Z",
     "shell.execute_reply": "2025-05-16T14:15:44.995160Z"
    },
    "papermill": {
     "duration": 0.014959,
     "end_time": "2025-05-16T14:15:44.997661",
     "exception": false,
     "start_time": "2025-05-16T14:15:44.982702",
     "status": "completed"
    },
    "tags": []
   },
   "outputs": [],
   "source": [
    "# remove html tags from text\n",
    "def remove_html_tags(text):\n",
    "    \"\"\"\n",
    "    Remove HTML tags from a given string.\n",
    "\n",
    "    Parameters:\n",
    "        text (str): The input string containing HTML tags.\n",
    "\n",
    "    Returns:\n",
    "        str: The cleaned string with HTML tags removed.\n",
    "    \"\"\"\n",
    "    clean = re.compile('<.*?>')\n",
    "    return re.sub(clean, '', text)"
   ]
  },
  {
   "cell_type": "code",
   "execution_count": 13,
   "id": "949f3ef6",
   "metadata": {
    "execution": {
     "iopub.execute_input": "2025-05-16T14:15:45.014281Z",
     "iopub.status.busy": "2025-05-16T14:15:45.013978Z",
     "iopub.status.idle": "2025-05-16T14:15:45.022703Z",
     "shell.execute_reply": "2025-05-16T14:15:45.021915Z"
    },
    "papermill": {
     "duration": 0.018495,
     "end_time": "2025-05-16T14:15:45.024161",
     "exception": false,
     "start_time": "2025-05-16T14:15:45.005666",
     "status": "completed"
    },
    "tags": []
   },
   "outputs": [],
   "source": [
    "def clean_review(text, wl=WordNetLemmatizer(), \n",
    "                 stop_words=set(stopwords.words('english'))):\n",
    "    \"\"\"\n",
    "    Clean and preprocess a text string for NLP analysis.\n",
    "\n",
    "    This function performs several preprocessing steps:\n",
    "    - Removes HTML tags\n",
    "    - Converts text to lowercase\n",
    "    - Tokenizes the text\n",
    "    - Removes stopwords and non-alphabetic tokens\n",
    "    - Applies lemmatization\n",
    "\n",
    "    Parameters:\n",
    "        text (str): The input text string to be cleaned.\n",
    "        wl (WordNetLemmatizer, optional): Lemmatizer instance. Defaults to WordNetLemmatizer().\n",
    "        stop_words (set, optional): Set of stopwords to remove. Defaults to English stopwords from NLTK.\n",
    "\n",
    "    Returns:\n",
    "        str: The cleaned and lemmatized text string.\n",
    "    \"\"\"\n",
    "    cleaned_text = remove_html_tags(text)\n",
    "    words = word_tokenize(cleaned_text.lower())\n",
    "    \n",
    "    filtered_words = []\n",
    "    for word in words:\n",
    "        if word not in stop_words and word.isalpha():\n",
    "            filtered_words.append(wl.lemmatize(word))\n",
    "    \n",
    "    filtered_words = ' '.join(filtered_words)    \n",
    "    return filtered_words"
   ]
  },
  {
   "cell_type": "code",
   "execution_count": 14,
   "id": "0146f9e2",
   "metadata": {
    "execution": {
     "iopub.execute_input": "2025-05-16T14:15:45.040125Z",
     "iopub.status.busy": "2025-05-16T14:15:45.039808Z",
     "iopub.status.idle": "2025-05-16T14:15:45.047543Z",
     "shell.execute_reply": "2025-05-16T14:15:45.046601Z"
    },
    "papermill": {
     "duration": 0.017479,
     "end_time": "2025-05-16T14:15:45.049178",
     "exception": false,
     "start_time": "2025-05-16T14:15:45.031699",
     "status": "completed"
    },
    "tags": []
   },
   "outputs": [
    {
     "name": "stdout",
     "output_type": "stream",
     "text": [
      "Index(['Tweet ID', 'Username', 'Text', 'Date', 'Retweets', 'Likes', 'Weight'], dtype='object')\n"
     ]
    }
   ],
   "source": [
    "print(df.columns)"
   ]
  },
  {
   "cell_type": "code",
   "execution_count": 15,
   "id": "186fdb6f",
   "metadata": {
    "execution": {
     "iopub.execute_input": "2025-05-16T14:15:45.065164Z",
     "iopub.status.busy": "2025-05-16T14:15:45.064839Z",
     "iopub.status.idle": "2025-05-16T14:15:45.075336Z",
     "shell.execute_reply": "2025-05-16T14:15:45.074452Z"
    },
    "papermill": {
     "duration": 0.020406,
     "end_time": "2025-05-16T14:15:45.076930",
     "exception": false,
     "start_time": "2025-05-16T14:15:45.056524",
     "status": "completed"
    },
    "tags": []
   },
   "outputs": [
    {
     "data": {
      "text/html": [
       "<div>\n",
       "<style scoped>\n",
       "    .dataframe tbody tr th:only-of-type {\n",
       "        vertical-align: middle;\n",
       "    }\n",
       "\n",
       "    .dataframe tbody tr th {\n",
       "        vertical-align: top;\n",
       "    }\n",
       "\n",
       "    .dataframe thead th {\n",
       "        text-align: right;\n",
       "    }\n",
       "</style>\n",
       "<table border=\"1\" class=\"dataframe\">\n",
       "  <thead>\n",
       "    <tr style=\"text-align: right;\">\n",
       "      <th></th>\n",
       "      <th>Tweet ID</th>\n",
       "      <th>Username</th>\n",
       "      <th>Text</th>\n",
       "      <th>Date</th>\n",
       "      <th>Retweets</th>\n",
       "      <th>Likes</th>\n",
       "      <th>Weight</th>\n",
       "    </tr>\n",
       "  </thead>\n",
       "  <tbody>\n",
       "    <tr>\n",
       "      <th>0</th>\n",
       "      <td>1798142586911342936</td>\n",
       "      <td>Rabbit1873</td>\n",
       "      <td>@JackPosobiec Re: BREAKING: GARLAND TO LAUNCH ...</td>\n",
       "      <td>Tue Jun 04 23:59:35 +0000 2024</td>\n",
       "      <td>2</td>\n",
       "      <td>3</td>\n",
       "      <td>0.622459</td>\n",
       "    </tr>\n",
       "    <tr>\n",
       "      <th>1</th>\n",
       "      <td>1798142575112769914</td>\n",
       "      <td>Chrissi Miller</td>\n",
       "      <td>@PaulStanleyLive #PresidentDonaldTrump wins th...</td>\n",
       "      <td>Tue Jun 04 23:59:32 +0000 2024</td>\n",
       "      <td>0</td>\n",
       "      <td>0</td>\n",
       "      <td>0.622459</td>\n",
       "    </tr>\n",
       "    <tr>\n",
       "      <th>2</th>\n",
       "      <td>1798142544762830918</td>\n",
       "      <td>Pedro Da Conceicao</td>\n",
       "      <td>@tomorrowsmps I believe I am the youngest PPC ...</td>\n",
       "      <td>Tue Jun 04 23:59:25 +0000 2024</td>\n",
       "      <td>0</td>\n",
       "      <td>0</td>\n",
       "      <td>0.982014</td>\n",
       "    </tr>\n",
       "    <tr>\n",
       "      <th>3</th>\n",
       "      <td>1798142432388714849</td>\n",
       "      <td>Ben 🇺🇲</td>\n",
       "      <td>I am already saying Democrats will cheat even ...</td>\n",
       "      <td>Tue Jun 04 23:58:58 +0000 2024</td>\n",
       "      <td>0</td>\n",
       "      <td>0</td>\n",
       "      <td>0.500000</td>\n",
       "    </tr>\n",
       "    <tr>\n",
       "      <th>4</th>\n",
       "      <td>1798142320958943735</td>\n",
       "      <td>🇺🇸Proud American🇮🇹</td>\n",
       "      <td>@BryanDeanWright Republican AG’s should prosec...</td>\n",
       "      <td>Tue Jun 04 23:58:31 +0000 2024</td>\n",
       "      <td>0</td>\n",
       "      <td>2</td>\n",
       "      <td>0.880797</td>\n",
       "    </tr>\n",
       "  </tbody>\n",
       "</table>\n",
       "</div>"
      ],
      "text/plain": [
       "              Tweet ID            Username  \\\n",
       "0  1798142586911342936          Rabbit1873   \n",
       "1  1798142575112769914      Chrissi Miller   \n",
       "2  1798142544762830918  Pedro Da Conceicao   \n",
       "3  1798142432388714849              Ben 🇺🇲   \n",
       "4  1798142320958943735  🇺🇸Proud American🇮🇹   \n",
       "\n",
       "                                                Text  \\\n",
       "0  @JackPosobiec Re: BREAKING: GARLAND TO LAUNCH ...   \n",
       "1  @PaulStanleyLive #PresidentDonaldTrump wins th...   \n",
       "2  @tomorrowsmps I believe I am the youngest PPC ...   \n",
       "3  I am already saying Democrats will cheat even ...   \n",
       "4  @BryanDeanWright Republican AG’s should prosec...   \n",
       "\n",
       "                             Date  Retweets  Likes    Weight  \n",
       "0  Tue Jun 04 23:59:35 +0000 2024         2      3  0.622459  \n",
       "1  Tue Jun 04 23:59:32 +0000 2024         0      0  0.622459  \n",
       "2  Tue Jun 04 23:59:25 +0000 2024         0      0  0.982014  \n",
       "3  Tue Jun 04 23:58:58 +0000 2024         0      0  0.500000  \n",
       "4  Tue Jun 04 23:58:31 +0000 2024         0      2  0.880797  "
      ]
     },
     "execution_count": 15,
     "metadata": {},
     "output_type": "execute_result"
    }
   ],
   "source": [
    "df.head()"
   ]
  },
  {
   "cell_type": "code",
   "execution_count": 16,
   "id": "fbc5b1b6",
   "metadata": {
    "execution": {
     "iopub.execute_input": "2025-05-16T14:15:45.094161Z",
     "iopub.status.busy": "2025-05-16T14:15:45.093770Z",
     "iopub.status.idle": "2025-05-16T14:15:56.610171Z",
     "shell.execute_reply": "2025-05-16T14:15:56.609242Z"
    },
    "papermill": {
     "duration": 11.526333,
     "end_time": "2025-05-16T14:15:56.611649",
     "exception": false,
     "start_time": "2025-05-16T14:15:45.085316",
     "status": "completed"
    },
    "tags": []
   },
   "outputs": [
    {
     "name": "stdout",
     "output_type": "stream",
     "text": [
      "CPU times: user 11.1 s, sys: 350 ms, total: 11.5 s\n",
      "Wall time: 11.5 s\n"
     ]
    },
    {
     "data": {
      "text/html": [
       "<div>\n",
       "<style scoped>\n",
       "    .dataframe tbody tr th:only-of-type {\n",
       "        vertical-align: middle;\n",
       "    }\n",
       "\n",
       "    .dataframe tbody tr th {\n",
       "        vertical-align: top;\n",
       "    }\n",
       "\n",
       "    .dataframe thead th {\n",
       "        text-align: right;\n",
       "    }\n",
       "</style>\n",
       "<table border=\"1\" class=\"dataframe\">\n",
       "  <thead>\n",
       "    <tr style=\"text-align: right;\">\n",
       "      <th></th>\n",
       "      <th>Tweet ID</th>\n",
       "      <th>Username</th>\n",
       "      <th>Text</th>\n",
       "      <th>Date</th>\n",
       "      <th>Retweets</th>\n",
       "      <th>Likes</th>\n",
       "      <th>Weight</th>\n",
       "      <th>Clean text</th>\n",
       "    </tr>\n",
       "  </thead>\n",
       "  <tbody>\n",
       "    <tr>\n",
       "      <th>0</th>\n",
       "      <td>1798142586911342936</td>\n",
       "      <td>Rabbit1873</td>\n",
       "      <td>@JackPosobiec Re: BREAKING: GARLAND TO LAUNCH ...</td>\n",
       "      <td>Tue Jun 04 23:59:35 +0000 2024</td>\n",
       "      <td>2</td>\n",
       "      <td>3</td>\n",
       "      <td>0.622459</td>\n",
       "      <td>jackposobiec breaking garland launch threat ta...</td>\n",
       "    </tr>\n",
       "    <tr>\n",
       "      <th>1</th>\n",
       "      <td>1798142575112769914</td>\n",
       "      <td>Chrissi Miller</td>\n",
       "      <td>@PaulStanleyLive #PresidentDonaldTrump wins th...</td>\n",
       "      <td>Tue Jun 04 23:59:32 +0000 2024</td>\n",
       "      <td>0</td>\n",
       "      <td>0</td>\n",
       "      <td>0.622459</td>\n",
       "      <td>paulstanleylive presidentdonaldtrump win presi...</td>\n",
       "    </tr>\n",
       "    <tr>\n",
       "      <th>2</th>\n",
       "      <td>1798142544762830918</td>\n",
       "      <td>Pedro Da Conceicao</td>\n",
       "      <td>@tomorrowsmps I believe I am the youngest PPC ...</td>\n",
       "      <td>Tue Jun 04 23:59:25 +0000 2024</td>\n",
       "      <td>0</td>\n",
       "      <td>0</td>\n",
       "      <td>0.982014</td>\n",
       "      <td>tomorrowsmps believe youngest ppc standing ele...</td>\n",
       "    </tr>\n",
       "    <tr>\n",
       "      <th>3</th>\n",
       "      <td>1798142432388714849</td>\n",
       "      <td>Ben 🇺🇲</td>\n",
       "      <td>I am already saying Democrats will cheat even ...</td>\n",
       "      <td>Tue Jun 04 23:58:58 +0000 2024</td>\n",
       "      <td>0</td>\n",
       "      <td>0</td>\n",
       "      <td>0.500000</td>\n",
       "      <td>already saying democrat cheat even keep beggin...</td>\n",
       "    </tr>\n",
       "    <tr>\n",
       "      <th>4</th>\n",
       "      <td>1798142320958943735</td>\n",
       "      <td>🇺🇸Proud American🇮🇹</td>\n",
       "      <td>@BryanDeanWright Republican AG’s should prosec...</td>\n",
       "      <td>Tue Jun 04 23:58:31 +0000 2024</td>\n",
       "      <td>0</td>\n",
       "      <td>2</td>\n",
       "      <td>0.880797</td>\n",
       "      <td>bryandeanwright republican ag prosecute intell...</td>\n",
       "    </tr>\n",
       "  </tbody>\n",
       "</table>\n",
       "</div>"
      ],
      "text/plain": [
       "              Tweet ID            Username  \\\n",
       "0  1798142586911342936          Rabbit1873   \n",
       "1  1798142575112769914      Chrissi Miller   \n",
       "2  1798142544762830918  Pedro Da Conceicao   \n",
       "3  1798142432388714849              Ben 🇺🇲   \n",
       "4  1798142320958943735  🇺🇸Proud American🇮🇹   \n",
       "\n",
       "                                                Text  \\\n",
       "0  @JackPosobiec Re: BREAKING: GARLAND TO LAUNCH ...   \n",
       "1  @PaulStanleyLive #PresidentDonaldTrump wins th...   \n",
       "2  @tomorrowsmps I believe I am the youngest PPC ...   \n",
       "3  I am already saying Democrats will cheat even ...   \n",
       "4  @BryanDeanWright Republican AG’s should prosec...   \n",
       "\n",
       "                             Date  Retweets  Likes    Weight  \\\n",
       "0  Tue Jun 04 23:59:35 +0000 2024         2      3  0.622459   \n",
       "1  Tue Jun 04 23:59:32 +0000 2024         0      0  0.622459   \n",
       "2  Tue Jun 04 23:59:25 +0000 2024         0      0  0.982014   \n",
       "3  Tue Jun 04 23:58:58 +0000 2024         0      0  0.500000   \n",
       "4  Tue Jun 04 23:58:31 +0000 2024         0      2  0.880797   \n",
       "\n",
       "                                          Clean text  \n",
       "0  jackposobiec breaking garland launch threat ta...  \n",
       "1  paulstanleylive presidentdonaldtrump win presi...  \n",
       "2  tomorrowsmps believe youngest ppc standing ele...  \n",
       "3  already saying democrat cheat even keep beggin...  \n",
       "4  bryandeanwright republican ag prosecute intell...  "
      ]
     },
     "execution_count": 16,
     "metadata": {},
     "output_type": "execute_result"
    }
   ],
   "source": [
    "%%time\n",
    "import re\n",
    "\n",
    "# Apply the `clean_review` function to each tweet\n",
    "df['Clean text'] = df['Text'].apply(clean_review)\n",
    "df.head()"
   ]
  },
  {
   "cell_type": "code",
   "execution_count": 17,
   "id": "6b529b0c",
   "metadata": {
    "execution": {
     "iopub.execute_input": "2025-05-16T14:15:56.628972Z",
     "iopub.status.busy": "2025-05-16T14:15:56.628666Z",
     "iopub.status.idle": "2025-05-16T14:15:56.642426Z",
     "shell.execute_reply": "2025-05-16T14:15:56.641552Z"
    },
    "papermill": {
     "duration": 0.024484,
     "end_time": "2025-05-16T14:15:56.644156",
     "exception": false,
     "start_time": "2025-05-16T14:15:56.619672",
     "status": "completed"
    },
    "tags": []
   },
   "outputs": [],
   "source": [
    "df.drop_duplicates('Clean text', inplace=True) \n",
    "df.reset_index(drop=True, inplace=True)"
   ]
  },
  {
   "cell_type": "code",
   "execution_count": 18,
   "id": "2249630b",
   "metadata": {
    "execution": {
     "iopub.execute_input": "2025-05-16T14:15:56.660936Z",
     "iopub.status.busy": "2025-05-16T14:15:56.660630Z",
     "iopub.status.idle": "2025-05-16T14:15:56.672834Z",
     "shell.execute_reply": "2025-05-16T14:15:56.671840Z"
    },
    "papermill": {
     "duration": 0.022377,
     "end_time": "2025-05-16T14:15:56.674454",
     "exception": false,
     "start_time": "2025-05-16T14:15:56.652077",
     "status": "completed"
    },
    "tags": []
   },
   "outputs": [
    {
     "name": "stdout",
     "output_type": "stream",
     "text": [
      "(25652, 8)\n"
     ]
    },
    {
     "data": {
      "text/html": [
       "<div>\n",
       "<style scoped>\n",
       "    .dataframe tbody tr th:only-of-type {\n",
       "        vertical-align: middle;\n",
       "    }\n",
       "\n",
       "    .dataframe tbody tr th {\n",
       "        vertical-align: top;\n",
       "    }\n",
       "\n",
       "    .dataframe thead th {\n",
       "        text-align: right;\n",
       "    }\n",
       "</style>\n",
       "<table border=\"1\" class=\"dataframe\">\n",
       "  <thead>\n",
       "    <tr style=\"text-align: right;\">\n",
       "      <th></th>\n",
       "      <th>Tweet ID</th>\n",
       "      <th>Username</th>\n",
       "      <th>Text</th>\n",
       "      <th>Date</th>\n",
       "      <th>Retweets</th>\n",
       "      <th>Likes</th>\n",
       "      <th>Weight</th>\n",
       "      <th>Clean text</th>\n",
       "    </tr>\n",
       "  </thead>\n",
       "  <tbody>\n",
       "    <tr>\n",
       "      <th>0</th>\n",
       "      <td>1798142586911342936</td>\n",
       "      <td>Rabbit1873</td>\n",
       "      <td>@JackPosobiec Re: BREAKING: GARLAND TO LAUNCH ...</td>\n",
       "      <td>Tue Jun 04 23:59:35 +0000 2024</td>\n",
       "      <td>2</td>\n",
       "      <td>3</td>\n",
       "      <td>0.622459</td>\n",
       "      <td>jackposobiec breaking garland launch threat ta...</td>\n",
       "    </tr>\n",
       "    <tr>\n",
       "      <th>1</th>\n",
       "      <td>1798142575112769914</td>\n",
       "      <td>Chrissi Miller</td>\n",
       "      <td>@PaulStanleyLive #PresidentDonaldTrump wins th...</td>\n",
       "      <td>Tue Jun 04 23:59:32 +0000 2024</td>\n",
       "      <td>0</td>\n",
       "      <td>0</td>\n",
       "      <td>0.622459</td>\n",
       "      <td>paulstanleylive presidentdonaldtrump win presi...</td>\n",
       "    </tr>\n",
       "    <tr>\n",
       "      <th>2</th>\n",
       "      <td>1798142544762830918</td>\n",
       "      <td>Pedro Da Conceicao</td>\n",
       "      <td>@tomorrowsmps I believe I am the youngest PPC ...</td>\n",
       "      <td>Tue Jun 04 23:59:25 +0000 2024</td>\n",
       "      <td>0</td>\n",
       "      <td>0</td>\n",
       "      <td>0.982014</td>\n",
       "      <td>tomorrowsmps believe youngest ppc standing ele...</td>\n",
       "    </tr>\n",
       "    <tr>\n",
       "      <th>3</th>\n",
       "      <td>1798142432388714849</td>\n",
       "      <td>Ben 🇺🇲</td>\n",
       "      <td>I am already saying Democrats will cheat even ...</td>\n",
       "      <td>Tue Jun 04 23:58:58 +0000 2024</td>\n",
       "      <td>0</td>\n",
       "      <td>0</td>\n",
       "      <td>0.500000</td>\n",
       "      <td>already saying democrat cheat even keep beggin...</td>\n",
       "    </tr>\n",
       "    <tr>\n",
       "      <th>4</th>\n",
       "      <td>1798142320958943735</td>\n",
       "      <td>🇺🇸Proud American🇮🇹</td>\n",
       "      <td>@BryanDeanWright Republican AG’s should prosec...</td>\n",
       "      <td>Tue Jun 04 23:58:31 +0000 2024</td>\n",
       "      <td>0</td>\n",
       "      <td>2</td>\n",
       "      <td>0.880797</td>\n",
       "      <td>bryandeanwright republican ag prosecute intell...</td>\n",
       "    </tr>\n",
       "  </tbody>\n",
       "</table>\n",
       "</div>"
      ],
      "text/plain": [
       "              Tweet ID            Username  \\\n",
       "0  1798142586911342936          Rabbit1873   \n",
       "1  1798142575112769914      Chrissi Miller   \n",
       "2  1798142544762830918  Pedro Da Conceicao   \n",
       "3  1798142432388714849              Ben 🇺🇲   \n",
       "4  1798142320958943735  🇺🇸Proud American🇮🇹   \n",
       "\n",
       "                                                Text  \\\n",
       "0  @JackPosobiec Re: BREAKING: GARLAND TO LAUNCH ...   \n",
       "1  @PaulStanleyLive #PresidentDonaldTrump wins th...   \n",
       "2  @tomorrowsmps I believe I am the youngest PPC ...   \n",
       "3  I am already saying Democrats will cheat even ...   \n",
       "4  @BryanDeanWright Republican AG’s should prosec...   \n",
       "\n",
       "                             Date  Retweets  Likes    Weight  \\\n",
       "0  Tue Jun 04 23:59:35 +0000 2024         2      3  0.622459   \n",
       "1  Tue Jun 04 23:59:32 +0000 2024         0      0  0.622459   \n",
       "2  Tue Jun 04 23:59:25 +0000 2024         0      0  0.982014   \n",
       "3  Tue Jun 04 23:58:58 +0000 2024         0      0  0.500000   \n",
       "4  Tue Jun 04 23:58:31 +0000 2024         0      2  0.880797   \n",
       "\n",
       "                                          Clean text  \n",
       "0  jackposobiec breaking garland launch threat ta...  \n",
       "1  paulstanleylive presidentdonaldtrump win presi...  \n",
       "2  tomorrowsmps believe youngest ppc standing ele...  \n",
       "3  already saying democrat cheat even keep beggin...  \n",
       "4  bryandeanwright republican ag prosecute intell...  "
      ]
     },
     "execution_count": 18,
     "metadata": {},
     "output_type": "execute_result"
    }
   ],
   "source": [
    "print(df.shape)\n",
    "df.head()"
   ]
  },
  {
   "cell_type": "markdown",
   "id": "0dc4b66f",
   "metadata": {
    "papermill": {
     "duration": 0.007754,
     "end_time": "2025-05-16T14:15:56.690787",
     "exception": false,
     "start_time": "2025-05-16T14:15:56.683033",
     "status": "completed"
    },
    "tags": []
   },
   "source": [
    "## **Step 3: Entity Analysis**\n",
    "\n",
    "* **Hashtag**: Extracted all words starting with #, counted their frequency, and visualized the top 10 most used hashtags.\n",
    "* **Mentions:** Extracted all mentions (@username) from tweet text, counted their occurrences, and visualized the top 10 most mentioned users.\n",
    "* **Active Users:** Identified tweet authors from the Username field, ranked users by number of tweets, and plotted the top 10 most active users."
   ]
  },
  {
   "cell_type": "markdown",
   "id": "81bf4ed2",
   "metadata": {
    "papermill": {
     "duration": 0.007795,
     "end_time": "2025-05-16T14:15:56.706839",
     "exception": false,
     "start_time": "2025-05-16T14:15:56.699044",
     "status": "completed"
    },
    "tags": []
   },
   "source": [
    "### Hashtags"
   ]
  },
  {
   "cell_type": "code",
   "execution_count": 19,
   "id": "33c6c36f",
   "metadata": {
    "execution": {
     "iopub.execute_input": "2025-05-16T14:15:56.723902Z",
     "iopub.status.busy": "2025-05-16T14:15:56.723551Z",
     "iopub.status.idle": "2025-05-16T14:15:56.728386Z",
     "shell.execute_reply": "2025-05-16T14:15:56.727434Z"
    },
    "papermill": {
     "duration": 0.015175,
     "end_time": "2025-05-16T14:15:56.729944",
     "exception": false,
     "start_time": "2025-05-16T14:15:56.714769",
     "status": "completed"
    },
    "tags": []
   },
   "outputs": [],
   "source": [
    "# function to print all the hashtags in a text\n",
    "def extract_hashtags(text):\n",
    "    return [word[1:] for word in text.split() if word.startswith('#')]"
   ]
  },
  {
   "cell_type": "code",
   "execution_count": 20,
   "id": "5520381b",
   "metadata": {
    "execution": {
     "iopub.execute_input": "2025-05-16T14:15:56.811853Z",
     "iopub.status.busy": "2025-05-16T14:15:56.811499Z",
     "iopub.status.idle": "2025-05-16T14:15:57.060726Z",
     "shell.execute_reply": "2025-05-16T14:15:57.059512Z"
    },
    "papermill": {
     "duration": 0.260125,
     "end_time": "2025-05-16T14:15:57.062383",
     "exception": false,
     "start_time": "2025-05-16T14:15:56.802258",
     "status": "completed"
    },
    "tags": []
   },
   "outputs": [
    {
     "data": {
      "text/plain": [
       "[['PresidentDonaldTrump'],\n",
       " ['मोदी_चूरचूर_लड्डू'],\n",
       " ['GoogleAlerts'],\n",
       " ['GoogleAlerts'],\n",
       " ['GoogleAlerts']]"
      ]
     },
     "execution_count": 20,
     "metadata": {},
     "output_type": "execute_result"
    }
   ],
   "source": [
    "hashtag_list = []\n",
    "for i in range(len(df['Text'])):\n",
    "    hashtags = extract_hashtags(df['Text'][i])\n",
    "    if len(hashtags) != 0:\n",
    "        hashtag_list.append(hashtags)\n",
    "\n",
    "hashtag_list[:5]"
   ]
  },
  {
   "cell_type": "code",
   "execution_count": 21,
   "id": "22b5af20",
   "metadata": {
    "execution": {
     "iopub.execute_input": "2025-05-16T14:15:57.080229Z",
     "iopub.status.busy": "2025-05-16T14:15:57.079875Z",
     "iopub.status.idle": "2025-05-16T14:15:57.087505Z",
     "shell.execute_reply": "2025-05-16T14:15:57.086436Z"
    },
    "papermill": {
     "duration": 0.018377,
     "end_time": "2025-05-16T14:15:57.089014",
     "exception": false,
     "start_time": "2025-05-16T14:15:57.070637",
     "status": "completed"
    },
    "tags": []
   },
   "outputs": [
    {
     "name": "stdout",
     "output_type": "stream",
     "text": [
      "#trump: 110\n",
      "#maga: 82\n",
      "#trump2024: 69\n",
      "#smartnews: 44\n",
      "#kamalaharris: 44\n",
      "#biden: 43\n",
      "#election2024: 39\n",
      "#donaldtrump: 37\n",
      "#election: 25\n",
      "#democrat: 25\n"
     ]
    }
   ],
   "source": [
    "# flatten the list of hashtag lists\n",
    "flat_hashtag_list = [hashtag.lower() for sublist in hashtag_list for hashtag in sublist]\n",
    "\n",
    "# count the hashtags\n",
    "hashtag_counts = Counter(flat_hashtag_list)\n",
    "\n",
    "# get the top 10 most common hashtags\n",
    "top_10_hashtags = hashtag_counts.most_common(10)\n",
    "\n",
    "for tag, count in top_10_hashtags:\n",
    "    print(f\"#{tag}: {count}\")"
   ]
  },
  {
   "cell_type": "code",
   "execution_count": 22,
   "id": "255b3bb6",
   "metadata": {
    "execution": {
     "iopub.execute_input": "2025-05-16T14:15:57.107159Z",
     "iopub.status.busy": "2025-05-16T14:15:57.106818Z",
     "iopub.status.idle": "2025-05-16T14:15:57.519490Z",
     "shell.execute_reply": "2025-05-16T14:15:57.518467Z"
    },
    "papermill": {
     "duration": 0.423787,
     "end_time": "2025-05-16T14:15:57.521301",
     "exception": false,
     "start_time": "2025-05-16T14:15:57.097514",
     "status": "completed"
    },
    "tags": []
   },
   "outputs": [
    {
     "data": {
      "image/png": "[encoded data removed]",
      "text/plain": [
       "<Figure size 1600x900 with 1 Axes>"
      ]
     },
     "metadata": {},
     "output_type": "display_data"
    }
   ],
   "source": [
    "hashtags = [top_10_hashtags[i][0] for i in range(len(top_10_hashtags))]\n",
    "count_hashtags = [top_10_hashtags[i][1] for i in range(len(top_10_hashtags))]\n",
    "\n",
    "# Figure Size\n",
    "fig, ax = plt.subplots(figsize=(16, 9))\n",
    "\n",
    "# Horizontal Bar Plot\n",
    "ax.barh(hashtags, count_hashtags, color='lightblue')\n",
    "\n",
    "# Remove x, y Ticks\n",
    "ax.xaxis.set_ticks_position('none')\n",
    "ax.yaxis.set_ticks_position('none')\n",
    "\n",
    "# Add padding between axes and labels\n",
    "ax.xaxis.set_tick_params(pad=5)\n",
    "ax.yaxis.set_tick_params(pad=10)\n",
    "\n",
    "# Add x, y gridlines\n",
    "ax.grid(visible=True, color='grey',\n",
    "        linestyle='-.', linewidth=0.5,\n",
    "        alpha=0.2)\n",
    "\n",
    "# Show top values\n",
    "ax.invert_yaxis()\n",
    "\n",
    "# Add annotation to bars\n",
    "for i in ax.patches:\n",
    "    plt.text(i.get_width()+0.2, i.get_y()+0.5,\n",
    "             str(round((i.get_width()), 2)),\n",
    "             fontsize=10, fontweight='bold',\n",
    "             color='grey')\n",
    "\n",
    "# Add Plot Title\n",
    "ax.set_title('Top 10 Hashtags', loc='left')\n",
    "\n",
    "# Show Plot\n",
    "plt.show()"
   ]
  },
  {
   "cell_type": "markdown",
   "id": "eadb6b7a",
   "metadata": {
    "papermill": {
     "duration": 0.009071,
     "end_time": "2025-05-16T14:15:57.541032",
     "exception": false,
     "start_time": "2025-05-16T14:15:57.531961",
     "status": "completed"
    },
    "tags": []
   },
   "source": [
    "### Mentions"
   ]
  },
  {
   "cell_type": "code",
   "execution_count": 23,
   "id": "cd92a94d",
   "metadata": {
    "execution": {
     "iopub.execute_input": "2025-05-16T14:15:57.562061Z",
     "iopub.status.busy": "2025-05-16T14:15:57.561770Z",
     "iopub.status.idle": "2025-05-16T14:15:57.566435Z",
     "shell.execute_reply": "2025-05-16T14:15:57.565530Z"
    },
    "papermill": {
     "duration": 0.017465,
     "end_time": "2025-05-16T14:15:57.568178",
     "exception": false,
     "start_time": "2025-05-16T14:15:57.550713",
     "status": "completed"
    },
    "tags": []
   },
   "outputs": [],
   "source": [
    "# function to print all the users mentioned in a tweet\n",
    "def extract_users(text):\n",
    "    return [word[1:] for word in text.split() if word.startswith('@')]"
   ]
  },
  {
   "cell_type": "code",
   "execution_count": 24,
   "id": "255945ac",
   "metadata": {
    "execution": {
     "iopub.execute_input": "2025-05-16T14:15:57.589040Z",
     "iopub.status.busy": "2025-05-16T14:15:57.588751Z",
     "iopub.status.idle": "2025-05-16T14:15:57.809198Z",
     "shell.execute_reply": "2025-05-16T14:15:57.808326Z"
    },
    "papermill": {
     "duration": 0.23226,
     "end_time": "2025-05-16T14:15:57.810644",
     "exception": false,
     "start_time": "2025-05-16T14:15:57.578384",
     "status": "completed"
    },
    "tags": []
   },
   "outputs": [
    {
     "data": {
      "text/plain": [
       "[['JackPosobiec'],\n",
       " ['PaulStanleyLive'],\n",
       " ['tomorrowsmps'],\n",
       " ['BryanDeanWright'],\n",
       " ['WashTimes']]"
      ]
     },
     "execution_count": 24,
     "metadata": {},
     "output_type": "execute_result"
    }
   ],
   "source": [
    "users = [extract_users(text) for text in df['Text'] if extract_users(text)]\n",
    "users[:5]"
   ]
  },
  {
   "cell_type": "code",
   "execution_count": 25,
   "id": "d621b582",
   "metadata": {
    "execution": {
     "iopub.execute_input": "2025-05-16T14:15:57.831716Z",
     "iopub.status.busy": "2025-05-16T14:15:57.831163Z",
     "iopub.status.idle": "2025-05-16T14:15:57.852856Z",
     "shell.execute_reply": "2025-05-16T14:15:57.851744Z"
    },
    "papermill": {
     "duration": 0.034299,
     "end_time": "2025-05-16T14:15:57.854438",
     "exception": false,
     "start_time": "2025-05-16T14:15:57.820139",
     "status": "completed"
    },
    "tags": []
   },
   "outputs": [
    {
     "name": "stdout",
     "output_type": "stream",
     "text": [
      "@mike_pence: 738\n",
      "@youtube: 470\n",
      "@elonmusk: 392\n",
      "@realdonaldtrump: 371\n",
      "@kamalaharris: 360\n",
      "@robertkennedyjr: 277\n",
      "@harris_wins: 184\n",
      "@vivekgramaswamy: 178\n",
      "@gunthereagleman: 152\n",
      "@jdvance: 149\n"
     ]
    }
   ],
   "source": [
    "# flatten the list of users\n",
    "flat_users_list = [hashtag.lower() for sublist in users for hashtag in sublist]\n",
    "\n",
    "# count the users\n",
    "user_counts = Counter(flat_users_list)\n",
    "\n",
    "# get the top 10 most common users\n",
    "top_10_users = user_counts.most_common(10)\n",
    "\n",
    "for tag, count in top_10_users:\n",
    "    print(f\"@{tag}: {count}\")"
   ]
  },
  {
   "cell_type": "code",
   "execution_count": 26,
   "id": "804eb19f",
   "metadata": {
    "execution": {
     "iopub.execute_input": "2025-05-16T14:15:57.875639Z",
     "iopub.status.busy": "2025-05-16T14:15:57.875299Z",
     "iopub.status.idle": "2025-05-16T14:15:58.211825Z",
     "shell.execute_reply": "2025-05-16T14:15:58.211011Z"
    },
    "papermill": {
     "duration": 0.349134,
     "end_time": "2025-05-16T14:15:58.213981",
     "exception": false,
     "start_time": "2025-05-16T14:15:57.864847",
     "status": "completed"
    },
    "tags": []
   },
   "outputs": [
    {
     "data": {
      "image/png": "[encoded data removed]",
      "text/plain": [
       "<Figure size 1600x900 with 1 Axes>"
      ]
     },
     "metadata": {},
     "output_type": "display_data"
    }
   ],
   "source": [
    "users = [top_10_users[i][0] for i in range(len(top_10_users))]\n",
    "count_users = [top_10_users[i][1] for i in range(len(top_10_users))]\n",
    "\n",
    "# Figure Size\n",
    "fig, ax = plt.subplots(figsize=(16, 9))\n",
    "\n",
    "# Horizontal Bar Plot\n",
    "ax.barh(users, count_users, color='lightgreen')\n",
    "\n",
    "# Remove x, y Ticks\n",
    "ax.xaxis.set_ticks_position('none')\n",
    "ax.yaxis.set_ticks_position('none')\n",
    "\n",
    "# Add padding between axes and labels\n",
    "ax.xaxis.set_tick_params(pad=5)\n",
    "ax.yaxis.set_tick_params(pad=10)\n",
    "\n",
    "# Add x, y gridlines\n",
    "ax.grid(visible=True, color='grey',\n",
    "        linestyle='-.', linewidth=0.5,\n",
    "        alpha=0.2)\n",
    "\n",
    "# Show top values\n",
    "ax.invert_yaxis()\n",
    "\n",
    "# Add annotation to bars\n",
    "for i in ax.patches:\n",
    "    plt.text(i.get_width()+0.2, i.get_y()+0.5,\n",
    "             str(round((i.get_width()), 2)),\n",
    "             fontsize=10, fontweight='bold',\n",
    "             color='grey')\n",
    "\n",
    "# Add Plot Title\n",
    "ax.set_title('Top 10 Users Mentioned in a Tweet', loc='left')\n",
    "\n",
    "# Show Plot\n",
    "plt.show()"
   ]
  },
  {
   "cell_type": "markdown",
   "id": "20883295",
   "metadata": {
    "papermill": {
     "duration": 0.011227,
     "end_time": "2025-05-16T14:15:58.237143",
     "exception": false,
     "start_time": "2025-05-16T14:15:58.225916",
     "status": "completed"
    },
    "tags": []
   },
   "source": [
    "### Active Users"
   ]
  },
  {
   "cell_type": "code",
   "execution_count": 27,
   "id": "d6387e59",
   "metadata": {
    "execution": {
     "iopub.execute_input": "2025-05-16T14:15:58.261385Z",
     "iopub.status.busy": "2025-05-16T14:15:58.260726Z",
     "iopub.status.idle": "2025-05-16T14:15:58.277838Z",
     "shell.execute_reply": "2025-05-16T14:15:58.277074Z"
    },
    "papermill": {
     "duration": 0.030903,
     "end_time": "2025-05-16T14:15:58.279212",
     "exception": false,
     "start_time": "2025-05-16T14:15:58.248309",
     "status": "completed"
    },
    "tags": []
   },
   "outputs": [
    {
     "data": {
      "text/plain": [
       "Username\n",
       "HaleyFan 🇵🇸                             137\n",
       "Vivek G. Ramaswamy - Commentary News    126\n",
       "Mike Pence's Other Mother 🟧🟦🟪            87\n",
       "RFK Jr's brain worm 🪱                    85\n",
       "Vivek Ramaswamy                          49\n",
       "MA for RFK Jr                            34\n",
       "Richard Smit 🦅🚁💰🇳🇱🇺🇸🇬🇧🇮🇱🇺🇦🇹🇼             30\n",
       "𝐁𝐄𝐀𝐒𝐓 ᴰᴱᴹᴼᶜᴿᴬᵀ ⁻ ⁿᵒᵗ ᵗʰᵉ ᶠᵘⁿ ᵏⁱⁿᵈ        30\n",
       "Bulldogs4VivekOhio                       27\n",
       "Mike                                     25\n",
       "Name: count, dtype: int64"
      ]
     },
     "execution_count": 27,
     "metadata": {},
     "output_type": "execute_result"
    }
   ],
   "source": [
    "df['Username'].value_counts()[:10]"
   ]
  },
  {
   "cell_type": "code",
   "execution_count": 28,
   "id": "3652c517",
   "metadata": {
    "execution": {
     "iopub.execute_input": "2025-05-16T14:15:58.303455Z",
     "iopub.status.busy": "2025-05-16T14:15:58.302673Z",
     "iopub.status.idle": "2025-05-16T14:15:58.325582Z",
     "shell.execute_reply": "2025-05-16T14:15:58.324691Z"
    },
    "papermill": {
     "duration": 0.036637,
     "end_time": "2025-05-16T14:15:58.327174",
     "exception": false,
     "start_time": "2025-05-16T14:15:58.290537",
     "status": "completed"
    },
    "tags": []
   },
   "outputs": [],
   "source": [
    "usernames = df['Username'].value_counts().index.tolist()\n",
    "count_usernames = df['Username'].value_counts().values.tolist()"
   ]
  },
  {
   "cell_type": "code",
   "execution_count": 29,
   "id": "4009e510",
   "metadata": {
    "execution": {
     "iopub.execute_input": "2025-05-16T14:15:58.351376Z",
     "iopub.status.busy": "2025-05-16T14:15:58.351039Z",
     "iopub.status.idle": "2025-05-16T14:15:58.355690Z",
     "shell.execute_reply": "2025-05-16T14:15:58.354666Z"
    },
    "papermill": {
     "duration": 0.018842,
     "end_time": "2025-05-16T14:15:58.357250",
     "exception": false,
     "start_time": "2025-05-16T14:15:58.338408",
     "status": "completed"
    },
    "tags": []
   },
   "outputs": [],
   "source": [
    "import warnings\n",
    "warnings.filterwarnings(\"ignore\", category=UserWarning, module=\"IPython.core.pylabtools\")"
   ]
  },
  {
   "cell_type": "code",
   "execution_count": 30,
   "id": "c28b8c50",
   "metadata": {
    "execution": {
     "iopub.execute_input": "2025-05-16T14:15:58.381462Z",
     "iopub.status.busy": "2025-05-16T14:15:58.381152Z",
     "iopub.status.idle": "2025-05-16T14:15:58.760675Z",
     "shell.execute_reply": "2025-05-16T14:15:58.759738Z"
    },
    "papermill": {
     "duration": 0.393446,
     "end_time": "2025-05-16T14:15:58.762333",
     "exception": false,
     "start_time": "2025-05-16T14:15:58.368887",
     "status": "completed"
    },
    "tags": []
   },
   "outputs": [
    {
     "data": {
      "image/png": "[encoded data removed]",
      "text/plain": [
       "<Figure size 1600x900 with 1 Axes>"
      ]
     },
     "metadata": {},
     "output_type": "display_data"
    }
   ],
   "source": [
    "# Figure Size\n",
    "fig, ax = plt.subplots(figsize=(16, 9))\n",
    "plt.rcParams['font.family'] = 'DejaVu Sans'\n",
    "\n",
    "# Horizontal Bar Plot\n",
    "ax.barh(usernames[:10], count_usernames[:10], color='lightpink')\n",
    "\n",
    "# Remove x, y Ticks\n",
    "ax.xaxis.set_ticks_position('none')\n",
    "ax.yaxis.set_ticks_position('none')\n",
    "\n",
    "# Add padding between axes and labels\n",
    "ax.xaxis.set_tick_params(pad=5)\n",
    "ax.yaxis.set_tick_params(pad=10)\n",
    "\n",
    "# Add x, y gridlines\n",
    "ax.grid(visible=True, color='grey',\n",
    "        linestyle='-.', linewidth=0.5,\n",
    "        alpha=0.2)\n",
    "\n",
    "# Show top values\n",
    "ax.invert_yaxis()\n",
    "\n",
    "# Add annotation to bars\n",
    "for i in ax.patches:\n",
    "    plt.text(i.get_width()+0.2, i.get_y()+0.5,\n",
    "             str(round((i.get_width()), 2)),\n",
    "             fontsize=10, fontweight='bold',\n",
    "             color='grey')\n",
    "\n",
    "# Add Plot Title\n",
    "ax.set_title('Top Active 10 Users', loc='left')\n",
    "\n",
    "# Show Plot\n",
    "plt.show()"
   ]
  },
  {
   "cell_type": "code",
   "execution_count": null,
   "id": "02a60fd1",
   "metadata": {
    "papermill": {
     "duration": 0.012762,
     "end_time": "2025-05-16T14:15:58.788652",
     "exception": false,
     "start_time": "2025-05-16T14:15:58.775890",
     "status": "completed"
    },
    "tags": []
   },
   "outputs": [],
   "source": []
  }
 ],
 "metadata": {
  "kaggle": {
   "accelerator": "none",
   "dataSources": [
    {
     "databundleVersionId": 11871722,
     "datasetId": 6934041,
     "sourceId": 11432993,
     "sourceType": "datasetVersion"
    }
   ],
   "dockerImageVersionId": 31012,
   "isGpuEnabled": false,
   "isInternetEnabled": true,
   "language": "python",
   "sourceType": "notebook"
  },
  "kernelspec": {
   "display_name": "Python 3",
   "language": "python",
   "name": "python3"
  },
  "language_info": {
   "codemirror_mode": {
    "name": "ipython",
    "version": 3
   },
   "file_extension": ".py",
   "mimetype": "text/x-python",
   "name": "python",
   "nbconvert_exporter": "python",
   "pygments_lexer": "ipython3",
   "version": "3.11.11"
  },
  "papermill": {
   "default_parameters": {},
   "duration": 32.550548,
   "end_time": "2025-05-16T14:16:00.024533",
   "environment_variables": {},
   "exception": null,
   "input_path": "__notebook__.ipynb",
   "output_path": "__notebook__.ipynb",
   "parameters": {},
   "start_time": "2025-05-16T14:15:27.473985",
   "version": "2.6.0"
  }
 },
 "nbformat": 4,
 "nbformat_minor": 5
}
