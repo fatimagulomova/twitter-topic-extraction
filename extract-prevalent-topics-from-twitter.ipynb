{
 "cells": [
  {
   "cell_type": "markdown",
   "id": "e398c0a8",
   "metadata": {
    "papermill": {
     "duration": 0.00531,
     "end_time": "2025-04-18T11:31:15.843188",
     "exception": false,
     "start_time": "2025-04-18T11:31:15.837878",
     "status": "completed"
    },
    "tags": []
   },
   "source": [
    "#  Task 2: Extract prevalent topics from Twitter messages\n",
    "\n",
    "## 🎯 Objective\n",
    "\n",
    "- The goal of this project is to **extract the most frequent topics** discussed in tweets related to a specific city or region using **Natural Language Processing (NLP)** techniques.\n",
    "- This analysis helps identify **trends, public concerns, and popular discussions** by processing tweet content.\n",
    "- The insights can support **local researchers, journalists, or policymakers** by showing what people are actively talking about in a particular location.\n",
    "\n",
    "---\n",
    "\n",
    "## 🧭 Workflow Overview\n",
    "\n",
    "- 🔐 **Set up API access**: I created a Twitter Developer account and connected to the **Twitter API v2** using the `tweepy` library.\n",
    "\n",
    "- 📥 **Collect tweets**: Tweets were collected using **location-related keywords** such as city names and hashtags (e.g., *Tashkent*, *Uzbekistan*, `#Tashkent`).\n",
    "\n",
    "\n",
    "\n",
    "- 🧼 **Clean and preprocess data**  \n",
    "  - Remove URLs, mentions, emojis, and duplicates  \n",
    "  - Apply NLP preprocessing: **tokenization**, **stopword removal**, and **lemmatization**\n",
    "\n",
    "- 🔍 **Entity analysis**  \n",
    "  - Identify the most frequently used **hashtags**  \n",
    "  - Highlight **top contributors** (while anonymizing personal data)\n",
    "\n",
    "- 🧠 **Topic modeling techniques**  \n",
    "  I experimented with the following methods to extract key topics:\n",
    "  - **LDA (Latent Dirichlet Allocation)**\n",
    "  - **NMF (Non-negative Matrix Factorization)**\n",
    "  - **BERTopic** (for context-rich topic extraction using transformers)\n",
    "\n",
    "- 📊 **Visualize & interpret results**  \n",
    "  - Generate charts and visual summaries of the **top 5 most prevalent topics**\n",
    "  - Analyze patterns and draw meaningful conclusions\n",
    "---\n",
    "\n",
    "## Diagram for ScholarAI\n",
    "\n",
    "![ScholarAI Diagram](https://i.postimg.cc/jj4GrYzg/Diagram-1.png)"
   ]
  },
  {
   "cell_type": "markdown",
   "id": "68d014bb",
   "metadata": {
    "papermill": {
     "duration": 0.00416,
     "end_time": "2025-04-18T11:31:15.852009",
     "exception": false,
     "start_time": "2025-04-18T11:31:15.847849",
     "status": "completed"
    },
    "tags": []
   },
   "source": [
    "# Notebook Installations"
   ]
  },
  {
   "cell_type": "code",
   "execution_count": 1,
   "id": "ea08320d",
   "metadata": {
    "execution": {
     "iopub.execute_input": "2025-04-18T11:31:15.862954Z",
     "iopub.status.busy": "2025-04-18T11:31:15.862643Z",
     "iopub.status.idle": "2025-04-18T11:31:20.764845Z",
     "shell.execute_reply": "2025-04-18T11:31:20.763555Z"
    },
    "papermill": {
     "duration": 4.909866,
     "end_time": "2025-04-18T11:31:20.766704",
     "exception": false,
     "start_time": "2025-04-18T11:31:15.856838",
     "status": "completed"
    },
    "tags": []
   },
   "outputs": [],
   "source": [
    "!pip install -qU tweepy"
   ]
  },
  {
   "cell_type": "code",
   "execution_count": 2,
   "id": "6160fe7a",
   "metadata": {
    "execution": {
     "iopub.execute_input": "2025-04-18T11:31:20.777383Z",
     "iopub.status.busy": "2025-04-18T11:31:20.777040Z",
     "iopub.status.idle": "2025-04-18T11:31:25.400754Z",
     "shell.execute_reply": "2025-04-18T11:31:25.399814Z"
    },
    "papermill": {
     "duration": 4.631064,
     "end_time": "2025-04-18T11:31:25.402341",
     "exception": false,
     "start_time": "2025-04-18T11:31:20.771277",
     "status": "completed"
    },
    "tags": []
   },
   "outputs": [],
   "source": [
    "import tweepy\n",
    "import time\n",
    "import pandas as pd\n",
    "from kaggle_secrets import UserSecretsClient\n",
    "\n",
    "# NLTK\n",
    "import nltk\n",
    "from nltk.tokenize import word_tokenize\n",
    "from nltk.corpus import stopwords\n",
    "from wordcloud import WordCloud\n",
    "from nltk.stem import WordNetLemmatizer\n",
    "\n",
    "from IPython.display import HTML\n",
    "import pandas as pd\n",
    "from tweepy.errors import TooManyRequests\n",
    "import pandas as pd\n",
    "from IPython.display import HTML"
   ]
  },
  {
   "cell_type": "code",
   "execution_count": 3,
   "id": "57eb1c2d",
   "metadata": {
    "execution": {
     "iopub.execute_input": "2025-04-18T11:31:25.412726Z",
     "iopub.status.busy": "2025-04-18T11:31:25.411943Z",
     "iopub.status.idle": "2025-04-18T11:31:26.131013Z",
     "shell.execute_reply": "2025-04-18T11:31:26.129986Z"
    },
    "papermill": {
     "duration": 0.726003,
     "end_time": "2025-04-18T11:31:26.132791",
     "exception": false,
     "start_time": "2025-04-18T11:31:25.406788",
     "status": "completed"
    },
    "tags": []
   },
   "outputs": [
    {
     "name": "stderr",
     "output_type": "stream",
     "text": [
      "[nltk_data] Downloading package punkt to /usr/share/nltk_data...\n",
      "[nltk_data]   Package punkt is already up-to-date!\n",
      "[nltk_data] Downloading package stopwords to /usr/share/nltk_data...\n",
      "[nltk_data]   Package stopwords is already up-to-date!\n",
      "[nltk_data] Downloading package wordnet to /usr/share/nltk_data...\n",
      "[nltk_data]   Package wordnet is already up-to-date!\n"
     ]
    },
    {
     "name": "stdout",
     "output_type": "stream",
     "text": [
      "Archive:  /usr/share/nltk_data/corpora/wordnet.zip\r\n",
      "   creating: /usr/share/nltk_data/corpora/wordnet/\r\n",
      "  inflating: /usr/share/nltk_data/corpora/wordnet/lexnames  \r\n",
      "  inflating: /usr/share/nltk_data/corpora/wordnet/data.verb  \r\n",
      "  inflating: /usr/share/nltk_data/corpora/wordnet/index.adv  \r\n",
      "  inflating: /usr/share/nltk_data/corpora/wordnet/adv.exc  \r\n",
      "  inflating: /usr/share/nltk_data/corpora/wordnet/index.verb  \r\n",
      "  inflating: /usr/share/nltk_data/corpora/wordnet/cntlist.rev  \r\n",
      "  inflating: /usr/share/nltk_data/corpora/wordnet/data.adj  \r\n",
      "  inflating: /usr/share/nltk_data/corpora/wordnet/index.adj  \r\n",
      "  inflating: /usr/share/nltk_data/corpora/wordnet/LICENSE  \r\n",
      "  inflating: /usr/share/nltk_data/corpora/wordnet/citation.bib  \r\n",
      "  inflating: /usr/share/nltk_data/corpora/wordnet/noun.exc  \r\n",
      "  inflating: /usr/share/nltk_data/corpora/wordnet/verb.exc  \r\n",
      "  inflating: /usr/share/nltk_data/corpora/wordnet/README  \r\n",
      "  inflating: /usr/share/nltk_data/corpora/wordnet/index.sense  \r\n",
      "  inflating: /usr/share/nltk_data/corpora/wordnet/data.noun  \r\n",
      "  inflating: /usr/share/nltk_data/corpora/wordnet/data.adv  \r\n",
      "  inflating: /usr/share/nltk_data/corpora/wordnet/index.noun  \r\n",
      "  inflating: /usr/share/nltk_data/corpora/wordnet/adj.exc  \r\n"
     ]
    }
   ],
   "source": [
    "nltk.download('punkt')\n",
    "nltk.download('stopwords')\n",
    "nltk.download('wordnet')\n",
    "\n",
    "! unzip /usr/share/nltk_data/corpora/wordnet.zip -d /usr/share/nltk_data/corpora/"
   ]
  },
  {
   "cell_type": "code",
   "execution_count": 4,
   "id": "10fbda38",
   "metadata": {
    "execution": {
     "iopub.execute_input": "2025-04-18T11:31:26.144416Z",
     "iopub.status.busy": "2025-04-18T11:31:26.144039Z",
     "iopub.status.idle": "2025-04-18T11:31:26.235682Z",
     "shell.execute_reply": "2025-04-18T11:31:26.234675Z"
    },
    "papermill": {
     "duration": 0.099818,
     "end_time": "2025-04-18T11:31:26.237448",
     "exception": false,
     "start_time": "2025-04-18T11:31:26.137630",
     "status": "completed"
    },
    "tags": []
   },
   "outputs": [],
   "source": [
    "user_secrets = UserSecretsClient()\n",
    "# access_token = user_secrets.get_secret(\"access_token\")\n",
    "# access_token_secret = user_secrets.get_secret(\"access_token_secret\")\n",
    "bearer_token = user_secrets.get_secret(\"BEARER_TOKEN\")\n",
    "# consumer_key = user_secrets.get_secret(\"consumer_key\")\n",
    "# consumer_secret = user_secrets.get_secret(\"consumer_secret\")"
   ]
  },
  {
   "cell_type": "markdown",
   "id": "ae555a0d",
   "metadata": {
    "papermill": {
     "duration": 0.004383,
     "end_time": "2025-04-18T11:31:26.246564",
     "exception": false,
     "start_time": "2025-04-18T11:31:26.242181",
     "status": "completed"
    },
    "tags": []
   },
   "source": [
    "## Step 1: Data Collection"
   ]
  },
  {
   "cell_type": "markdown",
   "id": "e5bfaf7e",
   "metadata": {
    "papermill": {
     "duration": 0.004306,
     "end_time": "2025-04-18T11:31:26.255444",
     "exception": false,
     "start_time": "2025-04-18T11:31:26.251138",
     "status": "completed"
    },
    "tags": []
   },
   "source": [
    "I used the **Twitter API v2** to collect recent tweets related to Uzbekistan by searching for keywords like **\"Tashkent\"**, **\"Uzbekistan\"**, and **#Uzbekistan.** Since I don't have access to location-based filters, I relied on these keywords along with the language filter **lang:en** to get relevant tweets.\n",
    "\n",
    "I fetched tweets in multiple batches using **Tweepy**, with a delay between requests to respect the rate limit. Each tweet includes the text, author ID, language, creation time, and context annotations (if available)."
   ]
  },
  {
   "cell_type": "code",
   "execution_count": 5,
   "id": "8a7e350e",
   "metadata": {
    "execution": {
     "iopub.execute_input": "2025-04-18T11:31:26.266045Z",
     "iopub.status.busy": "2025-04-18T11:31:26.265254Z",
     "iopub.status.idle": "2025-04-18T11:31:26.270067Z",
     "shell.execute_reply": "2025-04-18T11:31:26.269231Z"
    },
    "papermill": {
     "duration": 0.011662,
     "end_time": "2025-04-18T11:31:26.271579",
     "exception": false,
     "start_time": "2025-04-18T11:31:26.259917",
     "status": "completed"
    },
    "tags": []
   },
   "outputs": [],
   "source": [
    "client = tweepy.Client(bearer_token=bearer_token)"
   ]
  },
  {
   "cell_type": "code",
   "execution_count": 6,
   "id": "c8d52325",
   "metadata": {
    "execution": {
     "iopub.execute_input": "2025-04-18T11:31:26.282687Z",
     "iopub.status.busy": "2025-04-18T11:31:26.282329Z",
     "iopub.status.idle": "2025-04-18T11:31:26.411433Z",
     "shell.execute_reply": "2025-04-18T11:31:26.410399Z"
    },
    "papermill": {
     "duration": 0.136403,
     "end_time": "2025-04-18T11:31:26.413036",
     "exception": false,
     "start_time": "2025-04-18T11:31:26.276633",
     "status": "completed"
    },
    "tags": []
   },
   "outputs": [
    {
     "name": "stdout",
     "output_type": "stream",
     "text": [
      "Twitter API limit reached. Loading fallback CSV...\n",
      "                    id                                               text  \\\n",
      "0  1913128503744373141  @mlecchabaap11 @MR_Blue_EyeOF @goodbroto @Shit...   \n",
      "1  1913125520717345124                               @lukebelmar Tashkent   \n",
      "2  1913125509816348753  @brfootball @aguneribe is this also the most s...   \n",
      "3  1913124753470263713  @food_porn17 #Food 🎉👨‍🍳🎖️ UZBEKISTAN! BAZAAR! ...   \n",
      "4  1913124751788458286  @food_porn17 #Food 🎉👨‍🍳🎖️ UZBEKISTAN! Unusual ...   \n",
      "\n",
      "                  created_at            author_id lang  \\\n",
      "0  2025-04-18 07:12:34+00:00  1635318248433664001   en   \n",
      "1  2025-04-18 07:00:42+00:00            214155473   en   \n",
      "2  2025-04-18 07:00:40+00:00  1056126774768218114   en   \n",
      "3  2025-04-18 06:57:40+00:00  1863847655589462016   en   \n",
      "4  2025-04-18 06:57:39+00:00  1862298597116846082   en   \n",
      "\n",
      "                                 context_annotations  \n",
      "0                                                NaN  \n",
      "1                                                NaN  \n",
      "2  [{'domain': {'id': '11', 'name': 'Sport', 'des...  \n",
      "3  [{'domain': {'id': '46', 'name': 'Business Tax...  \n",
      "4  [{'domain': {'id': '46', 'name': 'Business Tax...  \n"
     ]
    }
   ],
   "source": [
    "# Pre-define df in case all branches fail\n",
    "df = None\n",
    "\n",
    "query = (\n",
    "    \"(Tashkent OR Uzbekistan OR #Uzbekistan OR #Tashkent OR Samarqand OR Samarkand) \"\n",
    "    \"-is:retweet lang:en\"\n",
    ")\n",
    "\n",
    "try: \n",
    "    tweet = client.search_recent_tweets(\n",
    "        query=query,\n",
    "        tweet_fields=['context_annotations', 'created_at', 'author_id', 'lang'],\n",
    "        max_results=100\n",
    "    )\n",
    "\n",
    "    if tweet.data is not None:\n",
    "        tweet_list = []\n",
    "        for t in tweet.data:\n",
    "            tweet_list.append({\n",
    "                \"id\": t.id,\n",
    "                \"text\": t.text,\n",
    "                \"created_at\": t.created_at,\n",
    "                \"author_id\": t.author_id,\n",
    "                \"lang\": t.lang,\n",
    "                \"context_annotations\": t.context_annotations if hasattr(t, \"context_annotations\") else None\n",
    "            })\n",
    "\n",
    "        df = pd.DataFrame(tweet_list)\n",
    "        print(df.head())\n",
    "    else:\n",
    "        print(\"No tweets returned.\")\n",
    "\n",
    "except TooManyRequests:\n",
    "    print(\"Twitter API limit reached. Loading fallback CSV...\")\n",
    "    df = pd.read_csv(\"/kaggle/input/tweets-from-uzbekistan/submission (1).csv\")\n",
    "    if 'Unnamed: 0' in df.columns:\n",
    "        df.drop('Unnamed: 0', axis=1, inplace=True)\n",
    "    print(df.head())\n",
    "\n",
    "finally:\n",
    "    if df is not None:\n",
    "        df.to_csv('submission.csv', index=False)\n",
    "\n",
    "        def create_download_link(title=\"Download CSV file\", filename=\"submission.csv\"):  \n",
    "            html = f'<a href=\"{filename}\">{title}</a>'\n",
    "            return HTML(html)\n",
    "\n",
    "        create_download_link(filename='submission.csv')\n",
    "    else:\n",
    "        print(\"No DataFrame available to save.\")"
   ]
  },
  {
   "cell_type": "code",
   "execution_count": 7,
   "id": "5dcca14b",
   "metadata": {
    "execution": {
     "iopub.execute_input": "2025-04-18T11:31:26.424014Z",
     "iopub.status.busy": "2025-04-18T11:31:26.423681Z",
     "iopub.status.idle": "2025-04-18T11:31:26.431033Z",
     "shell.execute_reply": "2025-04-18T11:31:26.429989Z"
    },
    "papermill": {
     "duration": 0.014673,
     "end_time": "2025-04-18T11:31:26.432603",
     "exception": false,
     "start_time": "2025-04-18T11:31:26.417930",
     "status": "completed"
    },
    "tags": []
   },
   "outputs": [
    {
     "data": {
      "text/plain": [
       "(100, 6)"
      ]
     },
     "execution_count": 7,
     "metadata": {},
     "output_type": "execute_result"
    }
   ],
   "source": [
    "df.shape"
   ]
  },
  {
   "cell_type": "code",
   "execution_count": 8,
   "id": "34846a22",
   "metadata": {
    "execution": {
     "iopub.execute_input": "2025-04-18T11:31:26.444080Z",
     "iopub.status.busy": "2025-04-18T11:31:26.443250Z",
     "iopub.status.idle": "2025-04-18T11:31:26.461271Z",
     "shell.execute_reply": "2025-04-18T11:31:26.460423Z"
    },
    "papermill": {
     "duration": 0.024975,
     "end_time": "2025-04-18T11:31:26.462616",
     "exception": false,
     "start_time": "2025-04-18T11:31:26.437641",
     "status": "completed"
    },
    "tags": []
   },
   "outputs": [
    {
     "data": {
      "text/html": [
       "<div>\n",
       "<style scoped>\n",
       "    .dataframe tbody tr th:only-of-type {\n",
       "        vertical-align: middle;\n",
       "    }\n",
       "\n",
       "    .dataframe tbody tr th {\n",
       "        vertical-align: top;\n",
       "    }\n",
       "\n",
       "    .dataframe thead th {\n",
       "        text-align: right;\n",
       "    }\n",
       "</style>\n",
       "<table border=\"1\" class=\"dataframe\">\n",
       "  <thead>\n",
       "    <tr style=\"text-align: right;\">\n",
       "      <th></th>\n",
       "      <th>id</th>\n",
       "      <th>text</th>\n",
       "      <th>created_at</th>\n",
       "      <th>author_id</th>\n",
       "      <th>lang</th>\n",
       "      <th>context_annotations</th>\n",
       "    </tr>\n",
       "  </thead>\n",
       "  <tbody>\n",
       "    <tr>\n",
       "      <th>0</th>\n",
       "      <td>1913128503744373141</td>\n",
       "      <td>@mlecchabaap11 @MR_Blue_EyeOF @goodbroto @Shit...</td>\n",
       "      <td>2025-04-18 07:12:34+00:00</td>\n",
       "      <td>1635318248433664001</td>\n",
       "      <td>en</td>\n",
       "      <td>NaN</td>\n",
       "    </tr>\n",
       "    <tr>\n",
       "      <th>1</th>\n",
       "      <td>1913125520717345124</td>\n",
       "      <td>@lukebelmar Tashkent</td>\n",
       "      <td>2025-04-18 07:00:42+00:00</td>\n",
       "      <td>214155473</td>\n",
       "      <td>en</td>\n",
       "      <td>NaN</td>\n",
       "    </tr>\n",
       "    <tr>\n",
       "      <th>2</th>\n",
       "      <td>1913125509816348753</td>\n",
       "      <td>@brfootball @aguneribe is this also the most s...</td>\n",
       "      <td>2025-04-18 07:00:40+00:00</td>\n",
       "      <td>1056126774768218114</td>\n",
       "      <td>en</td>\n",
       "      <td>[{'domain': {'id': '11', 'name': 'Sport', 'des...</td>\n",
       "    </tr>\n",
       "    <tr>\n",
       "      <th>3</th>\n",
       "      <td>1913124753470263713</td>\n",
       "      <td>@food_porn17 #Food 🎉👨‍🍳🎖️ UZBEKISTAN! BAZAAR! ...</td>\n",
       "      <td>2025-04-18 06:57:40+00:00</td>\n",
       "      <td>1863847655589462016</td>\n",
       "      <td>en</td>\n",
       "      <td>[{'domain': {'id': '46', 'name': 'Business Tax...</td>\n",
       "    </tr>\n",
       "    <tr>\n",
       "      <th>4</th>\n",
       "      <td>1913124751788458286</td>\n",
       "      <td>@food_porn17 #Food 🎉👨‍🍳🎖️ UZBEKISTAN! Unusual ...</td>\n",
       "      <td>2025-04-18 06:57:39+00:00</td>\n",
       "      <td>1862298597116846082</td>\n",
       "      <td>en</td>\n",
       "      <td>[{'domain': {'id': '46', 'name': 'Business Tax...</td>\n",
       "    </tr>\n",
       "  </tbody>\n",
       "</table>\n",
       "</div>"
      ],
      "text/plain": [
       "                    id                                               text  \\\n",
       "0  1913128503744373141  @mlecchabaap11 @MR_Blue_EyeOF @goodbroto @Shit...   \n",
       "1  1913125520717345124                               @lukebelmar Tashkent   \n",
       "2  1913125509816348753  @brfootball @aguneribe is this also the most s...   \n",
       "3  1913124753470263713  @food_porn17 #Food 🎉👨‍🍳🎖️ UZBEKISTAN! BAZAAR! ...   \n",
       "4  1913124751788458286  @food_porn17 #Food 🎉👨‍🍳🎖️ UZBEKISTAN! Unusual ...   \n",
       "\n",
       "                  created_at            author_id lang  \\\n",
       "0  2025-04-18 07:12:34+00:00  1635318248433664001   en   \n",
       "1  2025-04-18 07:00:42+00:00            214155473   en   \n",
       "2  2025-04-18 07:00:40+00:00  1056126774768218114   en   \n",
       "3  2025-04-18 06:57:40+00:00  1863847655589462016   en   \n",
       "4  2025-04-18 06:57:39+00:00  1862298597116846082   en   \n",
       "\n",
       "                                 context_annotations  \n",
       "0                                                NaN  \n",
       "1                                                NaN  \n",
       "2  [{'domain': {'id': '11', 'name': 'Sport', 'des...  \n",
       "3  [{'domain': {'id': '46', 'name': 'Business Tax...  \n",
       "4  [{'domain': {'id': '46', 'name': 'Business Tax...  "
      ]
     },
     "execution_count": 8,
     "metadata": {},
     "output_type": "execute_result"
    }
   ],
   "source": [
    "df.head()"
   ]
  },
  {
   "cell_type": "code",
   "execution_count": 9,
   "id": "eaffb5df",
   "metadata": {
    "execution": {
     "iopub.execute_input": "2025-04-18T11:31:26.474043Z",
     "iopub.status.busy": "2025-04-18T11:31:26.473687Z",
     "iopub.status.idle": "2025-04-18T11:31:26.480850Z",
     "shell.execute_reply": "2025-04-18T11:31:26.479629Z"
    },
    "papermill": {
     "duration": 0.014667,
     "end_time": "2025-04-18T11:31:26.482362",
     "exception": false,
     "start_time": "2025-04-18T11:31:26.467695",
     "status": "completed"
    },
    "tags": []
   },
   "outputs": [
    {
     "name": "stdout",
     "output_type": "stream",
     "text": [
      "The empty row in the data: \n",
      "id                      0\n",
      "text                    0\n",
      "created_at              0\n",
      "author_id               0\n",
      "lang                    0\n",
      "context_annotations    48\n",
      "dtype: int64\n"
     ]
    }
   ],
   "source": [
    "print(f\"The empty row in the data: \\n{df.isnull().sum()}\")"
   ]
  },
  {
   "cell_type": "code",
   "execution_count": 10,
   "id": "581fcbcb",
   "metadata": {
    "execution": {
     "iopub.execute_input": "2025-04-18T11:31:26.493947Z",
     "iopub.status.busy": "2025-04-18T11:31:26.493537Z",
     "iopub.status.idle": "2025-04-18T11:31:26.499841Z",
     "shell.execute_reply": "2025-04-18T11:31:26.498833Z"
    },
    "papermill": {
     "duration": 0.013679,
     "end_time": "2025-04-18T11:31:26.501358",
     "exception": false,
     "start_time": "2025-04-18T11:31:26.487679",
     "status": "completed"
    },
    "tags": []
   },
   "outputs": [
    {
     "name": "stdout",
     "output_type": "stream",
     "text": [
      "The types of the data: \n",
      "id                      int64\n",
      "text                   object\n",
      "created_at             object\n",
      "author_id               int64\n",
      "lang                   object\n",
      "context_annotations    object\n",
      "dtype: object\n",
      "\n"
     ]
    }
   ],
   "source": [
    "print(f\"The types of the data: \\n{df.dtypes}\\n\")"
   ]
  },
  {
   "cell_type": "markdown",
   "id": "1c0870ec",
   "metadata": {
    "papermill": {
     "duration": 0.004985,
     "end_time": "2025-04-18T11:31:26.511738",
     "exception": false,
     "start_time": "2025-04-18T11:31:26.506753",
     "status": "completed"
    },
    "tags": []
   },
   "source": [
    "## Step 2: Data Preprocessing\n",
    "\n",
    "\n",
    "* **Text Cleaning:** Remove any HTML tags, special characters, numbers, and other non-alphabetic characters.\n",
    "* **Tokenization:** Split the reviews into individual words (tokens).\n",
    "* **Stop Words Removal:** Remove common words that do not contribute to the sentiment, such as 'and', 'the', 'is', etc.\n",
    "* **Lemmatization:** Reduce words to their base or root form.\n"
   ]
  },
  {
   "cell_type": "code",
   "execution_count": 11,
   "id": "aaaac048",
   "metadata": {
    "execution": {
     "iopub.execute_input": "2025-04-18T11:31:26.523902Z",
     "iopub.status.busy": "2025-04-18T11:31:26.523148Z",
     "iopub.status.idle": "2025-04-18T11:31:26.538258Z",
     "shell.execute_reply": "2025-04-18T11:31:26.537248Z"
    },
    "papermill": {
     "duration": 0.022496,
     "end_time": "2025-04-18T11:31:26.539801",
     "exception": false,
     "start_time": "2025-04-18T11:31:26.517305",
     "status": "completed"
    },
    "tags": []
   },
   "outputs": [
    {
     "name": "stdout",
     "output_type": "stream",
     "text": [
      "(100, 6)\n"
     ]
    },
    {
     "data": {
      "text/html": [
       "<div>\n",
       "<style scoped>\n",
       "    .dataframe tbody tr th:only-of-type {\n",
       "        vertical-align: middle;\n",
       "    }\n",
       "\n",
       "    .dataframe tbody tr th {\n",
       "        vertical-align: top;\n",
       "    }\n",
       "\n",
       "    .dataframe thead th {\n",
       "        text-align: right;\n",
       "    }\n",
       "</style>\n",
       "<table border=\"1\" class=\"dataframe\">\n",
       "  <thead>\n",
       "    <tr style=\"text-align: right;\">\n",
       "      <th></th>\n",
       "      <th>id</th>\n",
       "      <th>text</th>\n",
       "      <th>created_at</th>\n",
       "      <th>author_id</th>\n",
       "      <th>lang</th>\n",
       "      <th>context_annotations</th>\n",
       "    </tr>\n",
       "  </thead>\n",
       "  <tbody>\n",
       "    <tr>\n",
       "      <th>0</th>\n",
       "      <td>1913128503744373141</td>\n",
       "      <td>@mlecchabaap11 @MR_Blue_EyeOF @goodbroto @Shit...</td>\n",
       "      <td>2025-04-18 07:12:34+00:00</td>\n",
       "      <td>1635318248433664001</td>\n",
       "      <td>en</td>\n",
       "      <td>NaN</td>\n",
       "    </tr>\n",
       "    <tr>\n",
       "      <th>1</th>\n",
       "      <td>1913125520717345124</td>\n",
       "      <td>@lukebelmar Tashkent</td>\n",
       "      <td>2025-04-18 07:00:42+00:00</td>\n",
       "      <td>214155473</td>\n",
       "      <td>en</td>\n",
       "      <td>NaN</td>\n",
       "    </tr>\n",
       "    <tr>\n",
       "      <th>2</th>\n",
       "      <td>1913125509816348753</td>\n",
       "      <td>@brfootball @aguneribe is this also the most s...</td>\n",
       "      <td>2025-04-18 07:00:40+00:00</td>\n",
       "      <td>1056126774768218114</td>\n",
       "      <td>en</td>\n",
       "      <td>[{'domain': {'id': '11', 'name': 'Sport', 'des...</td>\n",
       "    </tr>\n",
       "    <tr>\n",
       "      <th>3</th>\n",
       "      <td>1913124753470263713</td>\n",
       "      <td>@food_porn17 #Food 🎉👨‍🍳🎖️ UZBEKISTAN! BAZAAR! ...</td>\n",
       "      <td>2025-04-18 06:57:40+00:00</td>\n",
       "      <td>1863847655589462016</td>\n",
       "      <td>en</td>\n",
       "      <td>[{'domain': {'id': '46', 'name': 'Business Tax...</td>\n",
       "    </tr>\n",
       "    <tr>\n",
       "      <th>4</th>\n",
       "      <td>1913124751788458286</td>\n",
       "      <td>@food_porn17 #Food 🎉👨‍🍳🎖️ UZBEKISTAN! Unusual ...</td>\n",
       "      <td>2025-04-18 06:57:39+00:00</td>\n",
       "      <td>1862298597116846082</td>\n",
       "      <td>en</td>\n",
       "      <td>[{'domain': {'id': '46', 'name': 'Business Tax...</td>\n",
       "    </tr>\n",
       "  </tbody>\n",
       "</table>\n",
       "</div>"
      ],
      "text/plain": [
       "                    id                                               text  \\\n",
       "0  1913128503744373141  @mlecchabaap11 @MR_Blue_EyeOF @goodbroto @Shit...   \n",
       "1  1913125520717345124                               @lukebelmar Tashkent   \n",
       "2  1913125509816348753  @brfootball @aguneribe is this also the most s...   \n",
       "3  1913124753470263713  @food_porn17 #Food 🎉👨‍🍳🎖️ UZBEKISTAN! BAZAAR! ...   \n",
       "4  1913124751788458286  @food_porn17 #Food 🎉👨‍🍳🎖️ UZBEKISTAN! Unusual ...   \n",
       "\n",
       "                  created_at            author_id lang  \\\n",
       "0  2025-04-18 07:12:34+00:00  1635318248433664001   en   \n",
       "1  2025-04-18 07:00:42+00:00            214155473   en   \n",
       "2  2025-04-18 07:00:40+00:00  1056126774768218114   en   \n",
       "3  2025-04-18 06:57:40+00:00  1863847655589462016   en   \n",
       "4  2025-04-18 06:57:39+00:00  1862298597116846082   en   \n",
       "\n",
       "                                 context_annotations  \n",
       "0                                                NaN  \n",
       "1                                                NaN  \n",
       "2  [{'domain': {'id': '11', 'name': 'Sport', 'des...  \n",
       "3  [{'domain': {'id': '46', 'name': 'Business Tax...  \n",
       "4  [{'domain': {'id': '46', 'name': 'Business Tax...  "
      ]
     },
     "execution_count": 11,
     "metadata": {},
     "output_type": "execute_result"
    }
   ],
   "source": [
    "df.drop_duplicates('text', inplace=True)\n",
    "print(df.shape)\n",
    "df.head()"
   ]
  },
  {
   "cell_type": "code",
   "execution_count": 12,
   "id": "31fc458e",
   "metadata": {
    "execution": {
     "iopub.execute_input": "2025-04-18T11:31:26.551896Z",
     "iopub.status.busy": "2025-04-18T11:31:26.551552Z",
     "iopub.status.idle": "2025-04-18T11:31:26.556546Z",
     "shell.execute_reply": "2025-04-18T11:31:26.555602Z"
    },
    "papermill": {
     "duration": 0.012759,
     "end_time": "2025-04-18T11:31:26.557994",
     "exception": false,
     "start_time": "2025-04-18T11:31:26.545235",
     "status": "completed"
    },
    "tags": []
   },
   "outputs": [],
   "source": [
    "# remove html tags from text\n",
    "def remove_html_tags(text):\n",
    "    \"\"\"\n",
    "    Remove HTML tags from a given string.\n",
    "\n",
    "    Parameters:\n",
    "        text (str): The input string containing HTML tags.\n",
    "\n",
    "    Returns:\n",
    "        str: The cleaned string with HTML tags removed.\n",
    "    \"\"\"\n",
    "    clean = re.compile('<.*?>')\n",
    "    return re.sub(clean, '', text)"
   ]
  },
  {
   "cell_type": "code",
   "execution_count": 13,
   "id": "5bf50e08",
   "metadata": {
    "execution": {
     "iopub.execute_input": "2025-04-18T11:31:26.570677Z",
     "iopub.status.busy": "2025-04-18T11:31:26.570041Z",
     "iopub.status.idle": "2025-04-18T11:31:26.578335Z",
     "shell.execute_reply": "2025-04-18T11:31:26.577437Z"
    },
    "papermill": {
     "duration": 0.016483,
     "end_time": "2025-04-18T11:31:26.580027",
     "exception": false,
     "start_time": "2025-04-18T11:31:26.563544",
     "status": "completed"
    },
    "tags": []
   },
   "outputs": [],
   "source": [
    "def clean_review(text, wl=WordNetLemmatizer(), \n",
    "                 stop_words=set(stopwords.words('english'))):\n",
    "    \"\"\"\n",
    "    Clean and preprocess a text string for NLP analysis.\n",
    "\n",
    "    This function performs several preprocessing steps:\n",
    "    - Removes HTML tags\n",
    "    - Converts text to lowercase\n",
    "    - Tokenizes the text\n",
    "    - Removes stopwords and non-alphabetic tokens\n",
    "    - Applies lemmatization\n",
    "\n",
    "    Parameters:\n",
    "        text (str): The input text string to be cleaned.\n",
    "        wl (WordNetLemmatizer, optional): Lemmatizer instance. Defaults to WordNetLemmatizer().\n",
    "        stop_words (set, optional): Set of stopwords to remove. Defaults to English stopwords from NLTK.\n",
    "\n",
    "    Returns:\n",
    "        str: The cleaned and lemmatized text string.\n",
    "    \"\"\"\n",
    "    cleaned_text = remove_html_tags(text)\n",
    "    words = word_tokenize(cleaned_text.lower())\n",
    "    \n",
    "    filtered_words = []\n",
    "    for word in words:\n",
    "        if word not in stop_words and word.isalpha():\n",
    "            filtered_words.append(wl.lemmatize(word))\n",
    "    \n",
    "    filtered_words = ' '.join(filtered_words)    \n",
    "    return filtered_words"
   ]
  },
  {
   "cell_type": "code",
   "execution_count": 14,
   "id": "25977930",
   "metadata": {
    "execution": {
     "iopub.execute_input": "2025-04-18T11:31:26.592166Z",
     "iopub.status.busy": "2025-04-18T11:31:26.591869Z",
     "iopub.status.idle": "2025-04-18T11:31:26.597052Z",
     "shell.execute_reply": "2025-04-18T11:31:26.596075Z"
    },
    "papermill": {
     "duration": 0.012802,
     "end_time": "2025-04-18T11:31:26.598366",
     "exception": false,
     "start_time": "2025-04-18T11:31:26.585564",
     "status": "completed"
    },
    "tags": []
   },
   "outputs": [
    {
     "name": "stdout",
     "output_type": "stream",
     "text": [
      "Index(['id', 'text', 'created_at', 'author_id', 'lang', 'context_annotations'], dtype='object')\n"
     ]
    }
   ],
   "source": [
    "print(df.columns)"
   ]
  },
  {
   "cell_type": "code",
   "execution_count": 15,
   "id": "24b78edd",
   "metadata": {
    "execution": {
     "iopub.execute_input": "2025-04-18T11:31:26.610654Z",
     "iopub.status.busy": "2025-04-18T11:31:26.610331Z",
     "iopub.status.idle": "2025-04-18T11:31:26.620570Z",
     "shell.execute_reply": "2025-04-18T11:31:26.619705Z"
    },
    "papermill": {
     "duration": 0.018005,
     "end_time": "2025-04-18T11:31:26.622027",
     "exception": false,
     "start_time": "2025-04-18T11:31:26.604022",
     "status": "completed"
    },
    "tags": []
   },
   "outputs": [
    {
     "data": {
      "text/html": [
       "<div>\n",
       "<style scoped>\n",
       "    .dataframe tbody tr th:only-of-type {\n",
       "        vertical-align: middle;\n",
       "    }\n",
       "\n",
       "    .dataframe tbody tr th {\n",
       "        vertical-align: top;\n",
       "    }\n",
       "\n",
       "    .dataframe thead th {\n",
       "        text-align: right;\n",
       "    }\n",
       "</style>\n",
       "<table border=\"1\" class=\"dataframe\">\n",
       "  <thead>\n",
       "    <tr style=\"text-align: right;\">\n",
       "      <th></th>\n",
       "      <th>id</th>\n",
       "      <th>text</th>\n",
       "      <th>created_at</th>\n",
       "      <th>author_id</th>\n",
       "      <th>lang</th>\n",
       "      <th>context_annotations</th>\n",
       "    </tr>\n",
       "  </thead>\n",
       "  <tbody>\n",
       "    <tr>\n",
       "      <th>0</th>\n",
       "      <td>1913128503744373141</td>\n",
       "      <td>@mlecchabaap11 @MR_Blue_EyeOF @goodbroto @Shit...</td>\n",
       "      <td>2025-04-18 07:12:34+00:00</td>\n",
       "      <td>1635318248433664001</td>\n",
       "      <td>en</td>\n",
       "      <td>NaN</td>\n",
       "    </tr>\n",
       "    <tr>\n",
       "      <th>1</th>\n",
       "      <td>1913125520717345124</td>\n",
       "      <td>@lukebelmar Tashkent</td>\n",
       "      <td>2025-04-18 07:00:42+00:00</td>\n",
       "      <td>214155473</td>\n",
       "      <td>en</td>\n",
       "      <td>NaN</td>\n",
       "    </tr>\n",
       "    <tr>\n",
       "      <th>2</th>\n",
       "      <td>1913125509816348753</td>\n",
       "      <td>@brfootball @aguneribe is this also the most s...</td>\n",
       "      <td>2025-04-18 07:00:40+00:00</td>\n",
       "      <td>1056126774768218114</td>\n",
       "      <td>en</td>\n",
       "      <td>[{'domain': {'id': '11', 'name': 'Sport', 'des...</td>\n",
       "    </tr>\n",
       "    <tr>\n",
       "      <th>3</th>\n",
       "      <td>1913124753470263713</td>\n",
       "      <td>@food_porn17 #Food 🎉👨‍🍳🎖️ UZBEKISTAN! BAZAAR! ...</td>\n",
       "      <td>2025-04-18 06:57:40+00:00</td>\n",
       "      <td>1863847655589462016</td>\n",
       "      <td>en</td>\n",
       "      <td>[{'domain': {'id': '46', 'name': 'Business Tax...</td>\n",
       "    </tr>\n",
       "    <tr>\n",
       "      <th>4</th>\n",
       "      <td>1913124751788458286</td>\n",
       "      <td>@food_porn17 #Food 🎉👨‍🍳🎖️ UZBEKISTAN! Unusual ...</td>\n",
       "      <td>2025-04-18 06:57:39+00:00</td>\n",
       "      <td>1862298597116846082</td>\n",
       "      <td>en</td>\n",
       "      <td>[{'domain': {'id': '46', 'name': 'Business Tax...</td>\n",
       "    </tr>\n",
       "  </tbody>\n",
       "</table>\n",
       "</div>"
      ],
      "text/plain": [
       "                    id                                               text  \\\n",
       "0  1913128503744373141  @mlecchabaap11 @MR_Blue_EyeOF @goodbroto @Shit...   \n",
       "1  1913125520717345124                               @lukebelmar Tashkent   \n",
       "2  1913125509816348753  @brfootball @aguneribe is this also the most s...   \n",
       "3  1913124753470263713  @food_porn17 #Food 🎉👨‍🍳🎖️ UZBEKISTAN! BAZAAR! ...   \n",
       "4  1913124751788458286  @food_porn17 #Food 🎉👨‍🍳🎖️ UZBEKISTAN! Unusual ...   \n",
       "\n",
       "                  created_at            author_id lang  \\\n",
       "0  2025-04-18 07:12:34+00:00  1635318248433664001   en   \n",
       "1  2025-04-18 07:00:42+00:00            214155473   en   \n",
       "2  2025-04-18 07:00:40+00:00  1056126774768218114   en   \n",
       "3  2025-04-18 06:57:40+00:00  1863847655589462016   en   \n",
       "4  2025-04-18 06:57:39+00:00  1862298597116846082   en   \n",
       "\n",
       "                                 context_annotations  \n",
       "0                                                NaN  \n",
       "1                                                NaN  \n",
       "2  [{'domain': {'id': '11', 'name': 'Sport', 'des...  \n",
       "3  [{'domain': {'id': '46', 'name': 'Business Tax...  \n",
       "4  [{'domain': {'id': '46', 'name': 'Business Tax...  "
      ]
     },
     "execution_count": 15,
     "metadata": {},
     "output_type": "execute_result"
    }
   ],
   "source": [
    "df.head()"
   ]
  },
  {
   "cell_type": "code",
   "execution_count": 16,
   "id": "352100c1",
   "metadata": {
    "execution": {
     "iopub.execute_input": "2025-04-18T11:31:26.634748Z",
     "iopub.status.busy": "2025-04-18T11:31:26.634442Z",
     "iopub.status.idle": "2025-04-18T11:31:30.229747Z",
     "shell.execute_reply": "2025-04-18T11:31:30.228805Z"
    },
    "papermill": {
     "duration": 3.603379,
     "end_time": "2025-04-18T11:31:30.231206",
     "exception": false,
     "start_time": "2025-04-18T11:31:26.627827",
     "status": "completed"
    },
    "tags": []
   },
   "outputs": [
    {
     "name": "stdout",
     "output_type": "stream",
     "text": [
      "CPU times: user 3.22 s, sys: 352 ms, total: 3.57 s\n",
      "Wall time: 3.58 s\n"
     ]
    },
    {
     "data": {
      "text/html": [
       "<div>\n",
       "<style scoped>\n",
       "    .dataframe tbody tr th:only-of-type {\n",
       "        vertical-align: middle;\n",
       "    }\n",
       "\n",
       "    .dataframe tbody tr th {\n",
       "        vertical-align: top;\n",
       "    }\n",
       "\n",
       "    .dataframe thead th {\n",
       "        text-align: right;\n",
       "    }\n",
       "</style>\n",
       "<table border=\"1\" class=\"dataframe\">\n",
       "  <thead>\n",
       "    <tr style=\"text-align: right;\">\n",
       "      <th></th>\n",
       "      <th>id</th>\n",
       "      <th>text</th>\n",
       "      <th>created_at</th>\n",
       "      <th>author_id</th>\n",
       "      <th>lang</th>\n",
       "      <th>context_annotations</th>\n",
       "      <th>clean text</th>\n",
       "    </tr>\n",
       "  </thead>\n",
       "  <tbody>\n",
       "    <tr>\n",
       "      <th>0</th>\n",
       "      <td>1913128503744373141</td>\n",
       "      <td>@mlecchabaap11 @MR_Blue_EyeOF @goodbroto @Shit...</td>\n",
       "      <td>2025-04-18 07:12:34+00:00</td>\n",
       "      <td>1635318248433664001</td>\n",
       "      <td>en</td>\n",
       "      <td>NaN</td>\n",
       "      <td>goodbroto shitpostgate central asia typically ...</td>\n",
       "    </tr>\n",
       "    <tr>\n",
       "      <th>1</th>\n",
       "      <td>1913125520717345124</td>\n",
       "      <td>@lukebelmar Tashkent</td>\n",
       "      <td>2025-04-18 07:00:42+00:00</td>\n",
       "      <td>214155473</td>\n",
       "      <td>en</td>\n",
       "      <td>NaN</td>\n",
       "      <td>lukebelmar tashkent</td>\n",
       "    </tr>\n",
       "    <tr>\n",
       "      <th>2</th>\n",
       "      <td>1913125509816348753</td>\n",
       "      <td>@brfootball @aguneribe is this also the most s...</td>\n",
       "      <td>2025-04-18 07:00:40+00:00</td>\n",
       "      <td>1056126774768218114</td>\n",
       "      <td>en</td>\n",
       "      <td>[{'domain': {'id': '11', 'name': 'Sport', 'des...</td>\n",
       "      <td>brfootball aguneribe also successful club uzbe...</td>\n",
       "    </tr>\n",
       "    <tr>\n",
       "      <th>3</th>\n",
       "      <td>1913124753470263713</td>\n",
       "      <td>@food_porn17 #Food 🎉👨‍🍳🎖️ UZBEKISTAN! BAZAAR! ...</td>\n",
       "      <td>2025-04-18 06:57:40+00:00</td>\n",
       "      <td>1863847655589462016</td>\n",
       "      <td>en</td>\n",
       "      <td>[{'domain': {'id': '46', 'name': 'Business Tax...</td>\n",
       "      <td>food uzbekistan bazaar shock recipe chicken br...</td>\n",
       "    </tr>\n",
       "    <tr>\n",
       "      <th>4</th>\n",
       "      <td>1913124751788458286</td>\n",
       "      <td>@food_porn17 #Food 🎉👨‍🍳🎖️ UZBEKISTAN! Unusual ...</td>\n",
       "      <td>2025-04-18 06:57:39+00:00</td>\n",
       "      <td>1862298597116846082</td>\n",
       "      <td>en</td>\n",
       "      <td>[{'domain': {'id': '46', 'name': 'Business Tax...</td>\n",
       "      <td>food uzbekistan unusual recipe best meat manga...</td>\n",
       "    </tr>\n",
       "  </tbody>\n",
       "</table>\n",
       "</div>"
      ],
      "text/plain": [
       "                    id                                               text  \\\n",
       "0  1913128503744373141  @mlecchabaap11 @MR_Blue_EyeOF @goodbroto @Shit...   \n",
       "1  1913125520717345124                               @lukebelmar Tashkent   \n",
       "2  1913125509816348753  @brfootball @aguneribe is this also the most s...   \n",
       "3  1913124753470263713  @food_porn17 #Food 🎉👨‍🍳🎖️ UZBEKISTAN! BAZAAR! ...   \n",
       "4  1913124751788458286  @food_porn17 #Food 🎉👨‍🍳🎖️ UZBEKISTAN! Unusual ...   \n",
       "\n",
       "                  created_at            author_id lang  \\\n",
       "0  2025-04-18 07:12:34+00:00  1635318248433664001   en   \n",
       "1  2025-04-18 07:00:42+00:00            214155473   en   \n",
       "2  2025-04-18 07:00:40+00:00  1056126774768218114   en   \n",
       "3  2025-04-18 06:57:40+00:00  1863847655589462016   en   \n",
       "4  2025-04-18 06:57:39+00:00  1862298597116846082   en   \n",
       "\n",
       "                                 context_annotations  \\\n",
       "0                                                NaN   \n",
       "1                                                NaN   \n",
       "2  [{'domain': {'id': '11', 'name': 'Sport', 'des...   \n",
       "3  [{'domain': {'id': '46', 'name': 'Business Tax...   \n",
       "4  [{'domain': {'id': '46', 'name': 'Business Tax...   \n",
       "\n",
       "                                          clean text  \n",
       "0  goodbroto shitpostgate central asia typically ...  \n",
       "1                                lukebelmar tashkent  \n",
       "2  brfootball aguneribe also successful club uzbe...  \n",
       "3  food uzbekistan bazaar shock recipe chicken br...  \n",
       "4  food uzbekistan unusual recipe best meat manga...  "
      ]
     },
     "execution_count": 16,
     "metadata": {},
     "output_type": "execute_result"
    }
   ],
   "source": [
    "%%time\n",
    "import re\n",
    "\n",
    "# Apply the `clean_review` function to each tweet\n",
    "df['clean text'] = df['text'].apply(clean_review)\n",
    "df.head()"
   ]
  },
  {
   "cell_type": "code",
   "execution_count": 17,
   "id": "772e10da",
   "metadata": {
    "execution": {
     "iopub.execute_input": "2025-04-18T11:31:30.244426Z",
     "iopub.status.busy": "2025-04-18T11:31:30.244074Z",
     "iopub.status.idle": "2025-04-18T11:31:30.255203Z",
     "shell.execute_reply": "2025-04-18T11:31:30.254423Z"
    },
    "papermill": {
     "duration": 0.019337,
     "end_time": "2025-04-18T11:31:30.256616",
     "exception": false,
     "start_time": "2025-04-18T11:31:30.237279",
     "status": "completed"
    },
    "tags": []
   },
   "outputs": [
    {
     "data": {
      "text/html": [
       "<div>\n",
       "<style scoped>\n",
       "    .dataframe tbody tr th:only-of-type {\n",
       "        vertical-align: middle;\n",
       "    }\n",
       "\n",
       "    .dataframe tbody tr th {\n",
       "        vertical-align: top;\n",
       "    }\n",
       "\n",
       "    .dataframe thead th {\n",
       "        text-align: right;\n",
       "    }\n",
       "</style>\n",
       "<table border=\"1\" class=\"dataframe\">\n",
       "  <thead>\n",
       "    <tr style=\"text-align: right;\">\n",
       "      <th></th>\n",
       "      <th>id</th>\n",
       "      <th>created_at</th>\n",
       "      <th>author_id</th>\n",
       "      <th>lang</th>\n",
       "      <th>context_annotations</th>\n",
       "      <th>clean text</th>\n",
       "    </tr>\n",
       "  </thead>\n",
       "  <tbody>\n",
       "    <tr>\n",
       "      <th>0</th>\n",
       "      <td>1913128503744373141</td>\n",
       "      <td>2025-04-18 07:12:34+00:00</td>\n",
       "      <td>1635318248433664001</td>\n",
       "      <td>en</td>\n",
       "      <td>NaN</td>\n",
       "      <td>goodbroto shitpostgate central asia typically ...</td>\n",
       "    </tr>\n",
       "    <tr>\n",
       "      <th>1</th>\n",
       "      <td>1913125520717345124</td>\n",
       "      <td>2025-04-18 07:00:42+00:00</td>\n",
       "      <td>214155473</td>\n",
       "      <td>en</td>\n",
       "      <td>NaN</td>\n",
       "      <td>lukebelmar tashkent</td>\n",
       "    </tr>\n",
       "    <tr>\n",
       "      <th>2</th>\n",
       "      <td>1913125509816348753</td>\n",
       "      <td>2025-04-18 07:00:40+00:00</td>\n",
       "      <td>1056126774768218114</td>\n",
       "      <td>en</td>\n",
       "      <td>[{'domain': {'id': '11', 'name': 'Sport', 'des...</td>\n",
       "      <td>brfootball aguneribe also successful club uzbe...</td>\n",
       "    </tr>\n",
       "    <tr>\n",
       "      <th>3</th>\n",
       "      <td>1913124753470263713</td>\n",
       "      <td>2025-04-18 06:57:40+00:00</td>\n",
       "      <td>1863847655589462016</td>\n",
       "      <td>en</td>\n",
       "      <td>[{'domain': {'id': '46', 'name': 'Business Tax...</td>\n",
       "      <td>food uzbekistan bazaar shock recipe chicken br...</td>\n",
       "    </tr>\n",
       "    <tr>\n",
       "      <th>4</th>\n",
       "      <td>1913124751788458286</td>\n",
       "      <td>2025-04-18 06:57:39+00:00</td>\n",
       "      <td>1862298597116846082</td>\n",
       "      <td>en</td>\n",
       "      <td>[{'domain': {'id': '46', 'name': 'Business Tax...</td>\n",
       "      <td>food uzbekistan unusual recipe best meat manga...</td>\n",
       "    </tr>\n",
       "  </tbody>\n",
       "</table>\n",
       "</div>"
      ],
      "text/plain": [
       "                    id                 created_at            author_id lang  \\\n",
       "0  1913128503744373141  2025-04-18 07:12:34+00:00  1635318248433664001   en   \n",
       "1  1913125520717345124  2025-04-18 07:00:42+00:00            214155473   en   \n",
       "2  1913125509816348753  2025-04-18 07:00:40+00:00  1056126774768218114   en   \n",
       "3  1913124753470263713  2025-04-18 06:57:40+00:00  1863847655589462016   en   \n",
       "4  1913124751788458286  2025-04-18 06:57:39+00:00  1862298597116846082   en   \n",
       "\n",
       "                                 context_annotations  \\\n",
       "0                                                NaN   \n",
       "1                                                NaN   \n",
       "2  [{'domain': {'id': '11', 'name': 'Sport', 'des...   \n",
       "3  [{'domain': {'id': '46', 'name': 'Business Tax...   \n",
       "4  [{'domain': {'id': '46', 'name': 'Business Tax...   \n",
       "\n",
       "                                          clean text  \n",
       "0  goodbroto shitpostgate central asia typically ...  \n",
       "1                                lukebelmar tashkent  \n",
       "2  brfootball aguneribe also successful club uzbe...  \n",
       "3  food uzbekistan bazaar shock recipe chicken br...  \n",
       "4  food uzbekistan unusual recipe best meat manga...  "
      ]
     },
     "execution_count": 17,
     "metadata": {},
     "output_type": "execute_result"
    }
   ],
   "source": [
    "df.drop('text', axis=1, inplace=True)\n",
    "df.head()"
   ]
  },
  {
   "cell_type": "code",
   "execution_count": 18,
   "id": "69b87dcc",
   "metadata": {
    "execution": {
     "iopub.execute_input": "2025-04-18T11:31:30.270564Z",
     "iopub.status.busy": "2025-04-18T11:31:30.269786Z",
     "iopub.status.idle": "2025-04-18T11:31:30.275645Z",
     "shell.execute_reply": "2025-04-18T11:31:30.274838Z"
    },
    "papermill": {
     "duration": 0.014314,
     "end_time": "2025-04-18T11:31:30.277133",
     "exception": false,
     "start_time": "2025-04-18T11:31:30.262819",
     "status": "completed"
    },
    "tags": []
   },
   "outputs": [],
   "source": [
    "df.drop_duplicates('clean text', inplace=True) \n",
    "df.reset_index(drop=True, inplace=True)"
   ]
  },
  {
   "cell_type": "code",
   "execution_count": 19,
   "id": "0e25e94f",
   "metadata": {
    "execution": {
     "iopub.execute_input": "2025-04-18T11:31:30.290817Z",
     "iopub.status.busy": "2025-04-18T11:31:30.290494Z",
     "iopub.status.idle": "2025-04-18T11:31:30.301120Z",
     "shell.execute_reply": "2025-04-18T11:31:30.300242Z"
    },
    "papermill": {
     "duration": 0.018904,
     "end_time": "2025-04-18T11:31:30.302400",
     "exception": false,
     "start_time": "2025-04-18T11:31:30.283496",
     "status": "completed"
    },
    "tags": []
   },
   "outputs": [
    {
     "name": "stdout",
     "output_type": "stream",
     "text": [
      "(92, 6)\n"
     ]
    },
    {
     "data": {
      "text/html": [
       "<div>\n",
       "<style scoped>\n",
       "    .dataframe tbody tr th:only-of-type {\n",
       "        vertical-align: middle;\n",
       "    }\n",
       "\n",
       "    .dataframe tbody tr th {\n",
       "        vertical-align: top;\n",
       "    }\n",
       "\n",
       "    .dataframe thead th {\n",
       "        text-align: right;\n",
       "    }\n",
       "</style>\n",
       "<table border=\"1\" class=\"dataframe\">\n",
       "  <thead>\n",
       "    <tr style=\"text-align: right;\">\n",
       "      <th></th>\n",
       "      <th>id</th>\n",
       "      <th>created_at</th>\n",
       "      <th>author_id</th>\n",
       "      <th>lang</th>\n",
       "      <th>context_annotations</th>\n",
       "      <th>clean text</th>\n",
       "    </tr>\n",
       "  </thead>\n",
       "  <tbody>\n",
       "    <tr>\n",
       "      <th>0</th>\n",
       "      <td>1913128503744373141</td>\n",
       "      <td>2025-04-18 07:12:34+00:00</td>\n",
       "      <td>1635318248433664001</td>\n",
       "      <td>en</td>\n",
       "      <td>NaN</td>\n",
       "      <td>goodbroto shitpostgate central asia typically ...</td>\n",
       "    </tr>\n",
       "    <tr>\n",
       "      <th>1</th>\n",
       "      <td>1913125520717345124</td>\n",
       "      <td>2025-04-18 07:00:42+00:00</td>\n",
       "      <td>214155473</td>\n",
       "      <td>en</td>\n",
       "      <td>NaN</td>\n",
       "      <td>lukebelmar tashkent</td>\n",
       "    </tr>\n",
       "    <tr>\n",
       "      <th>2</th>\n",
       "      <td>1913125509816348753</td>\n",
       "      <td>2025-04-18 07:00:40+00:00</td>\n",
       "      <td>1056126774768218114</td>\n",
       "      <td>en</td>\n",
       "      <td>[{'domain': {'id': '11', 'name': 'Sport', 'des...</td>\n",
       "      <td>brfootball aguneribe also successful club uzbe...</td>\n",
       "    </tr>\n",
       "    <tr>\n",
       "      <th>3</th>\n",
       "      <td>1913124753470263713</td>\n",
       "      <td>2025-04-18 06:57:40+00:00</td>\n",
       "      <td>1863847655589462016</td>\n",
       "      <td>en</td>\n",
       "      <td>[{'domain': {'id': '46', 'name': 'Business Tax...</td>\n",
       "      <td>food uzbekistan bazaar shock recipe chicken br...</td>\n",
       "    </tr>\n",
       "    <tr>\n",
       "      <th>4</th>\n",
       "      <td>1913124751788458286</td>\n",
       "      <td>2025-04-18 06:57:39+00:00</td>\n",
       "      <td>1862298597116846082</td>\n",
       "      <td>en</td>\n",
       "      <td>[{'domain': {'id': '46', 'name': 'Business Tax...</td>\n",
       "      <td>food uzbekistan unusual recipe best meat manga...</td>\n",
       "    </tr>\n",
       "  </tbody>\n",
       "</table>\n",
       "</div>"
      ],
      "text/plain": [
       "                    id                 created_at            author_id lang  \\\n",
       "0  1913128503744373141  2025-04-18 07:12:34+00:00  1635318248433664001   en   \n",
       "1  1913125520717345124  2025-04-18 07:00:42+00:00            214155473   en   \n",
       "2  1913125509816348753  2025-04-18 07:00:40+00:00  1056126774768218114   en   \n",
       "3  1913124753470263713  2025-04-18 06:57:40+00:00  1863847655589462016   en   \n",
       "4  1913124751788458286  2025-04-18 06:57:39+00:00  1862298597116846082   en   \n",
       "\n",
       "                                 context_annotations  \\\n",
       "0                                                NaN   \n",
       "1                                                NaN   \n",
       "2  [{'domain': {'id': '11', 'name': 'Sport', 'des...   \n",
       "3  [{'domain': {'id': '46', 'name': 'Business Tax...   \n",
       "4  [{'domain': {'id': '46', 'name': 'Business Tax...   \n",
       "\n",
       "                                          clean text  \n",
       "0  goodbroto shitpostgate central asia typically ...  \n",
       "1                                lukebelmar tashkent  \n",
       "2  brfootball aguneribe also successful club uzbe...  \n",
       "3  food uzbekistan bazaar shock recipe chicken br...  \n",
       "4  food uzbekistan unusual recipe best meat manga...  "
      ]
     },
     "execution_count": 19,
     "metadata": {},
     "output_type": "execute_result"
    }
   ],
   "source": [
    "print(df.shape)\n",
    "df.head()"
   ]
  },
  {
   "cell_type": "code",
   "execution_count": null,
   "id": "d3578056",
   "metadata": {
    "papermill": {
     "duration": 0.007276,
     "end_time": "2025-04-18T11:31:30.316012",
     "exception": false,
     "start_time": "2025-04-18T11:31:30.308736",
     "status": "completed"
    },
    "tags": []
   },
   "outputs": [],
   "source": []
  }
 ],
 "metadata": {
  "kaggle": {
   "accelerator": "none",
   "dataSources": [
    {
     "datasetId": 7180934,
     "sourceId": 11460204,
     "sourceType": "datasetVersion"
    }
   ],
   "dockerImageVersionId": 31012,
   "isGpuEnabled": false,
   "isInternetEnabled": true,
   "language": "python",
   "sourceType": "notebook"
  },
  "kernelspec": {
   "display_name": "Python 3",
   "language": "python",
   "name": "python3"
  },
  "language_info": {
   "codemirror_mode": {
    "name": "ipython",
    "version": 3
   },
   "file_extension": ".py",
   "mimetype": "text/x-python",
   "name": "python",
   "nbconvert_exporter": "python",
   "pygments_lexer": "ipython3",
   "version": "3.11.11"
  },
  "papermill": {
   "default_parameters": {},
   "duration": 20.484127,
   "end_time": "2025-04-18T11:31:31.444649",
   "environment_variables": {},
   "exception": null,
   "input_path": "__notebook__.ipynb",
   "output_path": "__notebook__.ipynb",
   "parameters": {},
   "start_time": "2025-04-18T11:31:10.960522",
   "version": "2.6.0"
  }
 },
 "nbformat": 4,
 "nbformat_minor": 5
}
